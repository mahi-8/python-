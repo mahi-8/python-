{
  "nbformat": 4,
  "nbformat_minor": 0,
  "metadata": {
    "colab": {
      "provenance": [],
      "authorship_tag": "ABX9TyMll1hnRhoqclwoKBqx+f0D",
      "include_colab_link": true
    },
    "kernelspec": {
      "name": "python3",
      "display_name": "Python 3"
    },
    "language_info": {
      "name": "python"
    }
  },
  "cells": [
    {
      "cell_type": "markdown",
      "metadata": {
        "id": "view-in-github",
        "colab_type": "text"
      },
      "source": [
        "<a href=\"https://colab.research.google.com/github/mahi-8/python-/blob/main/InstallationandSetup.ipynb\" target=\"_parent\"><img src=\"https://colab.research.google.com/assets/colab-badge.svg\" alt=\"Open In Colab\"/></a>"
      ]
    },
    {
      "cell_type": "markdown",
      "source": [
        "## Firstly Install Anaconda\n",
        "\n",
        "**Anaconda is a package installer in pyhton**\n",
        "*Example* :\n",
        "            \n",
        "\n",
        "*  Imagine you want to cook food (make a Python project).\n",
        "*   To cook, you need:\n",
        "                       \n",
        "1.                        A kitchen = Python (place to cook)\n",
        "2.                        Ingredients = Libraries like pandas, numpy (tools to help)\n",
        "3.                       A recipe book = Jupyter Notebook (where you write your steps)\n",
        "* Anaconda is a full kitchen setup:\n",
        "\n",
        "1.   It gives you Python (you don’t need to install it separately)\n",
        "\n",
        "2.   It gives you libraries (ingredients are ready)\n",
        "\n",
        "3.   It gives you Jupyter Notebook (so you can write and run code)\n",
        "\n",
        "4.   It gives you Conda (a tool to manage projects and packages)\n",
        "\n",
        "\n",
        "**By installing we creater jupiter notebook(ipynb => interactive python notebook)**\n",
        "\n",
        "**It takes large storage space**\n",
        "\n",
        "## Mini conda\n",
        "**Miniconda is a smaller version of anaconda **\n",
        "**It also manages packages**\n",
        "\n",
        "\n",
        "## Instaliing Minicona\n",
        "\n",
        "* After Installing minicode , to check miniconda is installed .\n",
        "* Open  **ananconda cli**\n",
        "* We will check python is installed and run this  command :\n",
        "\n",
        "```\n",
        "  python -V\n",
        "  python --version\n",
        "```\n",
        "\n",
        "## IDE :    \n",
        "* An integrated development environment (IDE) is a software application that helps programmers develop software code efficiently. It increases developer productivity by combining capabilities such as software editing, building, testing, and packaging in an easy-to-use application.\n",
        "* Basically It is use to write code effectively .\n",
        "* It also provide UI to develop bigger projects .\n",
        "* TO write Python we use **VSCode** in this course\n",
        "\n",
        "## Introduction to VSCode  :        \n",
        "\n",
        "\n",
        "*   **Ideal for Python** : VS code is an excellent choice for python Programming\n",
        "*   **Extensions**  : Install python extensions in VSCODE for enchanced functionality\n",
        "*   **Customization**  : Customize VSCode settings for optimal Pyhton Development\n",
        "\n",
        "## Install VSCode\n"
      ],
      "metadata": {
        "id": "tAgvMvBsvzEP"
      }
    },
    {
      "cell_type": "markdown",
      "source": [],
      "metadata": {
        "id": "UJKKytJk-ybQ"
      }
    },
    {
      "cell_type": "markdown",
      "source": [
        "## First Program in Python :     \n",
        "* Let's create first program in python .\n",
        "* Create **firstProgram.py** file in VSCode .\n",
        "* Write Hello World program in python .\n",
        "\n",
        "\n",
        "```\n",
        "print(\"Hello World\")\n",
        "```\n",
        "\n",
        "## Extension\n",
        "* TO get support of VS code to check error , debugging and **run** python code  we install **python Extension**\n",
        "\n",
        "\n",
        "\n",
        "## How to run program in Python :    \n",
        "\n",
        "* After installing the python extension and select python in VSCode  , there is an run button in the **top right corner**  of the VSCode\n",
        "* Next method is to write  this command in cli or terminal\n",
        "\n",
        "```\n",
        "python file_name.py\n",
        "```\n",
        "\n",
        "\n"
      ],
      "metadata": {
        "id": "4aRVziMP-ymb"
      }
    },
    {
      "cell_type": "code",
      "source": [
        "# First Program\n",
        "\n",
        "print(\"Hello World\")"
      ],
      "metadata": {
        "colab": {
          "base_uri": "https://localhost:8080/"
        },
        "id": "ekiHyW_jAvcy",
        "outputId": "b678de04-af80-4402-b621-b5fab9be6c2c"
      },
      "execution_count": null,
      "outputs": [
        {
          "output_type": "stream",
          "name": "stdout",
          "text": [
            "Hello World\n"
          ]
        }
      ]
    }
  ]
}