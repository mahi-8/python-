{
  "cells": [
    {
      "cell_type": "markdown",
      "metadata": {
        "id": "R0OHdoYfjRgp"
      },
      "source": [
        "# Operators :\n",
        "An operator is a **symbol** that tells the computer to perform a **specific** action or **operation** on one or more values (called operands).\n",
        "\n",
        "\n",
        "## Operator used for :\n",
        "\n",
        "Operators are used to perform **operations** on :      \n",
        "\n",
        "\n",
        "\n",
        "*   Perform Calculations  (5 + 3)\n",
        "*   Compare Values        (a == b)\n",
        "*   Assign Values         (x = 10)\n",
        "*   Make Decisions        (if age > 18)\n",
        "*   Manipulate Data       (\"Hello\" + \"World\")\n",
        "\n",
        "\n",
        "\n",
        "\n",
        "\n",
        "Python divides the operators in the following groups:\n",
        "\n",
        "* Arithmetic operators\n",
        "* Assignment operators\n",
        "* Comparison operators\n",
        "* Logical operators\n",
        "* Identity operators\n",
        "* Membership operators\n",
        "* Bitwise operators\n",
        "\n"
      ]
    },
    {
      "cell_type": "markdown",
      "metadata": {
        "id": "LN2XsH7gQpFc"
      },
      "source": [
        "# Arithmetic Operator\n",
        "\n",
        "*  Used to do math operations (plus, minus, times, divide)\n",
        "\n",
        "| Symbol | Name             | Example  | What It Does                |\n",
        "| ------ | ---------------- | -------- | --------------------------- |\n",
        "| `+`    | Add              | `3 + 2`  | Adds = `5`                  |\n",
        "| `-`    | Subtract         | `5 - 1`  | Subtracts = `4`             |\n",
        "| `*`    | Multiply         | `4 * 2`  | Times = `8`                 |\n",
        "| `/`    | Divide           | `8 / 2`  | Divides = `4.0`             |\n",
        "| `//`   | Whole Division   | `7 // 2` | Gives only whole part = `3` |\n",
        "| `%`    | Remainder        | `7 % 2`  | Gives leftover = `1`        |\n",
        "| `**`   | Power (exponent) | `2 ** 3` | 2×2×2 = `8`                 |\n",
        "\n",
        "* Note : / gives decimal, // gives only the whole number."
      ]
    },
    {
      "cell_type": "code",
      "execution_count": null,
      "metadata": {
        "colab": {
          "base_uri": "https://localhost:8080/"
        },
        "id": "Z9ttI9drRGRe",
        "outputId": "b71fb52c-0ef4-4a04-c8d3-1ef042368aec"
      },
      "outputs": [
        {
          "name": "stdout",
          "output_type": "stream",
          "text": [
            "The total bill of apple is 150 and banana is  100\n",
            "The total bill is 250\n",
            "The total bill is divided into 5 friends : 50.0\n",
            "THe leftover amount will be 0.1\n"
          ]
        }
      ],
      "source": [
        "# Examples :\n",
        "\n",
        "# Grocery Shop Billing\n",
        "\n",
        "apple_cost  : int = 50\n",
        "banana_cost : int =  20\n",
        "buy_apple : int  = 3\n",
        "buy_banana : int = 5\n",
        "\n",
        "friends : int = 5\n",
        "tax = 10 / 100\n",
        "\n",
        "apple_bill : int = apple_cost * buy_apple\n",
        "banana_bill : int = banana_cost * buy_banana\n",
        "total_bill : int = apple_bill + banana_bill\n",
        "\n",
        "\n",
        "# tax_amount : int = total_bill * tax\n",
        "# total_item : int = total_bill + tax\n",
        "\n",
        "\n",
        "\n",
        "print(f'The total bill of apple is {apple_bill} and banana is  {banana_bill}')\n",
        "print(f'The total bill is {total_bill}')\n",
        "\n",
        "# Bill is divided into 5 parts\n",
        "\n",
        "print(f'The total bill is divided into 5 friends : {total_item // friends}')\n",
        "# print(f'THe leftover amount will be {round(total_item % friends,2)}')\n",
        "\n",
        "# Tomorrow we will do tax  calculations"
      ]
    },
    {
      "cell_type": "markdown",
      "metadata": {
        "id": "_5DQRU9DRIuM"
      },
      "source": [
        "# Assignment Operators\n",
        "\n",
        "*  Used to give a value to a variable or update it\n",
        "\n",
        "| Symbol | Example  | Meaning             |\n",
        "| ------ | -------- | ------------------- |\n",
        "| `=`    | `x = 5`  | Store 5 in `x`      |\n",
        "| `+=`   | `x += 2` | Add 2 to `x`        |\n",
        "| `-=`   | `x -= 1` | Subtract 1 from `x` |\n",
        "| `*=`   | `x *= 3` | Multiply `x` by 3   |\n",
        "| `/=`   | `x /= 2` | Divide `x` by 2     |\n",
        "\n"
      ]
    },
    {
      "cell_type": "code",
      "execution_count": null,
      "metadata": {
        "id": "gjOXeWdORVtL"
      },
      "outputs": [],
      "source": [
        "# Examples of Assignment Operators\n",
        "# Grocery  Tracker\n",
        "\n",
        "total_item : int = 0\n",
        "items : list[str] = ['']"
      ]
    },
    {
      "cell_type": "markdown",
      "metadata": {
        "id": "QhF54ABoRZug"
      },
      "source": [
        "#  Comparison Operators\n",
        "\n",
        "*  Used to compare two things. Answer is always True or False.\n",
        "\n",
        "| Symbol | Meaning          | Example  | Result |\n",
        "| ------ | ---------------- | -------- | ------ |\n",
        "| `==`   | Equal            | `3 == 3` | True   |\n",
        "| `!=`   | Not Equal        | `3 != 2` | True   |\n",
        "| `>`    | Greater Than     | `5 > 2`  | True   |\n",
        "| `<`    | Less Than        | `1 < 5`  | True   |\n",
        "| `>=`   | Greater or Equal | `5 >= 5` | True   |\n",
        "| `<=`   | Less or Equal    | `4 <= 6` | True   |\n",
        "\n",
        "* Note : It is used in if statements to make decisions ."
      ]
    },
    {
      "cell_type": "code",
      "execution_count": null,
      "metadata": {
        "id": "tRClMwxQSSrs"
      },
      "outputs": [],
      "source": [
        "# Examples of comaprison Operators"
      ]
    },
    {
      "cell_type": "markdown",
      "metadata": {
        "id": "ukwKyKyOSV7k"
      },
      "source": [
        "# Logical Operators\n",
        "\n",
        "* Logical operators are used to combine conditional statements:\n",
        "\n",
        "| Word  | Meaning            | Example           | Result |\n",
        "| ----- | ------------------ | ----------------- | ------ |\n",
        "| `and` | Both must be True  | `5 > 3 and 4 > 1` | True   |\n",
        "| `or`  | One must be True   | `5 > 3 or 2 > 10` | True   |\n",
        "| `not` | Opposite (flip it) | `not (5 > 3)`     | False  |\n",
        "\n",
        "* Note : It also use in conditions: if age > 18 and has_id:"
      ]
    },
    {
      "cell_type": "code",
      "execution_count": null,
      "metadata": {
        "id": "75iiD6c7Ss7G"
      },
      "outputs": [],
      "source": [
        "# Example"
      ]
    },
    {
      "cell_type": "markdown",
      "metadata": {
        "id": "vbBzFgSLSubd"
      },
      "source": [
        "# Identity Operators\n",
        "\n",
        "* Checks if two variables are the same object (not just same value)\n",
        "\n",
        "\n",
        "| Word     | Meaning             | Example      | Result     |\n",
        "| -------- | ------------------- | ------------ | ---------- |\n",
        "| `is`     | Are same object     | `x is y`     | True/False |\n",
        "| `is not` | Are not same object | `x is not y` | True/False |\n",
        "\n",
        "*  Tip: This checks **memory**, not value.\n"
      ]
    },
    {
      "cell_type": "code",
      "execution_count": null,
      "metadata": {
        "colab": {
          "base_uri": "https://localhost:8080/"
        },
        "id": "YSn74kOaTBM4",
        "outputId": "770ea59a-b4fb-4c62-e094-119c48b5d863"
      },
      "outputs": [
        {
          "name": "stdout",
          "output_type": "stream",
          "text": [
            "Learning Identity Operators : True 133493708010944 133493708010944\n",
            "Learning Identity Operators : False 133493708010624\n"
          ]
        }
      ],
      "source": [
        "# Example\n",
        "\n",
        "a = [1,2,3] # Values same also in same object\n",
        "b = a      # Same object\n",
        "c = [1,2,3]     # Values smae but objects is different\n",
        "\n",
        "print(f'Learning Identity Operators : {a is b} {id(a) } {id(b)}') # True\n",
        "print(f'Learning Identity Operators : {a is c} {id(c)}') # False\n",
        "\n",
        "# Bcz its same object in memory not the same value\n",
        "# Although their values are same but memory location are not same"
      ]
    },
    {
      "cell_type": "markdown",
      "metadata": {
        "id": "9LFpG1hoP2Vl"
      },
      "source": [
        "### Scenario 1 :       \n",
        "* Comparing Immutable Objects (is work for small integers and strings)"
      ]
    },
    {
      "cell_type": "code",
      "execution_count": null,
      "metadata": {
        "colab": {
          "base_uri": "https://localhost:8080/"
        },
        "id": "oePp2IgwQGva",
        "outputId": "eadd5259-7501-4525-809a-4bd4d432c5c4"
      },
      "outputs": [
        {
          "name": "stdout",
          "output_type": "stream",
          "text": [
            "False\n",
            "False\n",
            "True\n"
          ]
        }
      ],
      "source": [
        "a = 1000\n",
        "b = 1000\n",
        "\n",
        "print(a is b) # Output : False (Different memory locations)\n",
        "\n",
        "a = 257\n",
        "b = 257\n",
        "\n",
        "print(a is b) # Output : True (Same Memory Locations)\n",
        "# Python catches small integers from (-5 to 256)\n",
        "#\n",
        "\n",
        "a = 10\n",
        "b = 10\n",
        "\n",
        "print (a is b) # Output : True (python catches small integers)\n"
      ]
    },
    {
      "cell_type": "markdown",
      "metadata": {
        "id": "7RPuBbjcTDsB"
      },
      "source": [
        "# Membership Operators\n",
        "\n",
        "* Checks if a value is inside a list, string, etc.\n",
        "\n",
        "| Word     | Meaning           | Example              | Result |\n",
        "| -------- | ----------------- | -------------------- | ------ |\n",
        "| `in`     | Is it inside?     | `\"a\" in \"apple\"`     | True   |\n",
        "| `not in` | Is it not inside? | `\"z\" not in \"apple\"` | True   |\n",
        "\n"
      ]
    },
    {
      "cell_type": "markdown",
      "metadata": {
        "id": "EKI48STeTnJD"
      },
      "source": [
        "# Recap\n",
        "\n",
        "\n",
        "| Operator Type | What it Does                     |\n",
        "| ------------- | -------------------------------- |\n",
        "| Arithmetic    | Basic math (add, subtract, etc.) |\n",
        "| Assignment    | Store or change variable value   |\n",
        "| Comparison    | Compare values (True/False)      |\n",
        "| Logical       | Combine conditions               |\n",
        "| Identity      | Check if same object             |\n",
        "| Membership    | Check if inside a sequence       |\n",
        "| Bitwise       | Work with binary numbers (bits)  |\n"
      ]
    },
    {
      "cell_type": "code",
      "execution_count": 1,
      "metadata": {
        "id": "A9jUpY7hTvl3"
      },
      "outputs": [
        {
          "name": "stdout",
          "output_type": "stream",
          "text": [
            "💰 Total Expense = 6000\n",
            "🚨 High spender alert!\n",
            "Is 'Food' in categories? True\n",
            "Are both lists same object? True\n",
            "Generated Expense ID: 12\n"
          ]
        }
      ],
      "source": [
        "# Example that uses all operators which discussed below\n",
        "\n",
        "# 💼 Expense Tracker (Mini Project)\n",
        "# This program uses variables and all operator types.\n",
        "\n",
        "# ---- Variables ----\n",
        "food = 1200\n",
        "transport = 800\n",
        "shopping = 4000\n",
        "total = 0\n",
        "\n",
        "# ---- Arithmetic + Assignment ----\n",
        "total = food + transport + shopping\n",
        "print(\"💰 Total Expense =\", total)\n",
        "\n",
        "# ---- Comparison + Logical Operators ----\n",
        "if total > 1000 and total < 5000:\n",
        "    print(\"⚠️ You are spending moderately.\")\n",
        "elif total >= 5000:\n",
        "    print(\"🚨 High spender alert!\")\n",
        "else:\n",
        "    print(\"✅ You are managing well.\")\n",
        "\n",
        "# ---- Membership Operator ----\n",
        "categories = [\"Food\", \"Transport\", \"Shopping\"]\n",
        "print(\"Is 'Food' in categories?\", \"Food\" in categories)\n",
        "\n",
        "# ---- Identity Operator ----\n",
        "a = categories\n",
        "b = categories\n",
        "print(\"Are both lists same object?\", a is b)\n",
        "\n",
        "# ---- Bitwise Operator ----\n",
        "num = 3\n",
        "expense_id = num << 2    # Left shift to generate ID\n",
        "print(\"Generated Expense ID:\", expense_id)\n"
      ]
    }
  ],
  "metadata": {
    "colab": {
      "provenance": []
    },
    "kernelspec": {
      "display_name": "Python 3",
      "name": "python3"
    },
    "language_info": {
      "codemirror_mode": {
        "name": "ipython",
        "version": 3
      },
      "file_extension": ".py",
      "mimetype": "text/x-python",
      "name": "python",
      "nbconvert_exporter": "python",
      "pygments_lexer": "ipython3",
      "version": "3.12.2"
    }
  },
  "nbformat": 4,
  "nbformat_minor": 0
}
