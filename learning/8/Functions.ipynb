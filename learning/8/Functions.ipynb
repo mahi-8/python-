{
  "nbformat": 4,
  "nbformat_minor": 0,
  "metadata": {
    "colab": {
      "provenance": []
    },
    "kernelspec": {
      "name": "python3",
      "display_name": "Python 3"
    },
    "language_info": {
      "name": "python"
    }
  },
  "cells": [
    {
      "cell_type": "markdown",
      "source": [
        "\n",
        "# 📝 Functions in Python\n",
        "\n",
        "## 🔹 What is a Function?\n",
        "\n",
        "* A **reusable block of code** to perform specific tasks.\n",
        "* When a function is **called**, it runs a set of instructions and may return a result.\n",
        "\n",
        "### 🏠 Daily Life Analogy\n",
        "\n",
        "* `make_tea()` → boil water, add tea, add sugar.\n",
        "* `drive_car()` → start engine, press accelerator, steer.\n",
        "* `send_message()` → type text, click send.\n",
        "\n",
        "---\n",
        "\n",
        "## 🔹 Why Use Functions?\n",
        "\n",
        "Because functions = **Reusable + Organized + Readable + Maintainable Code** ✅\n",
        "\n",
        "---\n",
        "\n",
        "## 🔹 Syntax\n",
        "\n",
        "```python\n",
        "def function_name():\n",
        "    # function body\n",
        "    # instructions\n",
        "function_name()   # function call\n",
        "```\n",
        "\n",
        "---\n",
        "\n",
        "# ⚙️ Parameters and Arguments\n",
        "\n",
        "| **Aspect**         | **Parameters** (Definition side)           | **Arguments** (Calling side)            |\n",
        "| ------------------ | ------------------------------------------ | --------------------------------------- |\n",
        "| **Where used?**    | Inside the **function definition**         | Inside the **function call**            |\n",
        "| **What are they?** | Placeholders / variable names              | Actual values you pass                  |\n",
        "| **When exist?**    | When writing the function                  | When calling the function               |\n",
        "| **Example**        | `def greet(name):` → `name` is a parameter | `greet(\"Ali\")` → `\"Ali\"` is an argument |\n",
        "\n",
        "---\n",
        "\n",
        "# 🔹 Types of Parameters\n",
        "\n",
        "### 1. Required (Positional) Parameters\n",
        "\n",
        "* Must be passed in **order** when calling the function.\n",
        "\n",
        "```python\n",
        "def greet(name, age):\n",
        "    print(f\"Hello {name}, you are {age} years old.\")\n",
        "\n",
        "greet(\"Ali\", 20)   # ✅ correct\n",
        "greet(20, \"Ali\")   # ❌ wrong order\n",
        "```\n",
        "\n",
        "---\n",
        "\n",
        "### 2. Default Parameters\n",
        "\n",
        "* Assign a **default value** in the definition.\n",
        "* If no value is passed, Python uses the default.\n",
        "\n",
        "```python\n",
        "def greet(name, age=18):\n",
        "    print(f\"Hello {name}, you are {age} years old.\")\n",
        "\n",
        "greet(\"Sara\")       # uses default age 18\n",
        "greet(\"Sara\", 25)   # overrides default\n",
        "```\n",
        "\n",
        "---\n",
        "\n",
        "### 3. Keyword Parameters\n",
        "\n",
        "* Pass values using parameter names, so **order doesn’t matter**.\n",
        "\n",
        "```python\n",
        "def greet(name, age):\n",
        "    print(f\"Hello {name}, you are {age} years old.\")\n",
        "\n",
        "greet(age=22, name=\"Ayesha\")  # ✅ works even if order is swapped\n",
        "```\n",
        "\n",
        "---\n",
        "\n",
        "### 4. Arbitrary Positional Parameters (`*args`)\n",
        "\n",
        "* Accept **any number of values** (collected as a tuple).\n",
        "\n",
        "```python\n",
        "def add_numbers(*nums):\n",
        "    print(sum(nums))\n",
        "\n",
        "add_numbers(2, 4, 6, 8)   # Output: 20\n",
        "```\n",
        "\n",
        "---\n",
        "\n",
        "### 5. Arbitrary Keyword Parameters (`**kwargs`)\n",
        "\n",
        "* Accept **any number of keyword arguments** (collected as a dictionary).\n",
        "\n",
        "```python\n",
        "def student_info(**info):\n",
        "    print(info)\n",
        "\n",
        "student_info(name=\"Ali\", age=20, grade=\"10th\")\n",
        "# Output: {'name': 'Ali', 'age': 20, 'grade': '10th'}\n",
        "```\n",
        "\n",
        "---\n",
        "\n",
        "# 🔹 Types of Arguments\n",
        "\n",
        "### 1. Positional Argument\n",
        "\n",
        "* Values passed in the **same order** as parameters.\n",
        "\n",
        "**Syntax:**\n",
        "\n",
        "```python\n",
        "function_name(value1, value2, value3, ...)\n",
        "```\n",
        "\n",
        "**Example:**\n",
        "\n",
        "```python\n",
        "def introduce(name, age, city):\n",
        "    print(f\"My name is {name}, I am {age} years old, and I live in {city}.\")\n",
        "\n",
        "introduce(\"Ali\", 20, \"Lahore\")\n",
        "```\n",
        "\n",
        "---\n",
        "\n",
        "### 2. Keyword Argument\n",
        "\n",
        "* Values passed using the parameter name (order doesn’t matter).\n",
        "\n",
        "**Syntax:**\n",
        "\n",
        "```python\n",
        "function_name(parameter_name=value)\n",
        "```\n",
        "\n",
        "**Example:**\n",
        "\n",
        "```python\n",
        "def student_info(name, age, grade):\n",
        "    print(f\"Name: {name}, Age: {age}, Grade: {grade}\")\n",
        "\n",
        "student_info(age=15, name=\"Ali\", grade=\"10th\")\n",
        "```\n",
        "\n",
        "---\n",
        "\n",
        "# 🔹 Return Statement\n",
        "\n",
        "* **Stops** the function.\n",
        "* Sends a value back to the place where the function was called.\n",
        "* That value can be stored in a variable, printed, or used in calculations.\n",
        "\n",
        "👉 Difference:\n",
        "\n",
        "* **print()** → just shows the result.\n",
        "* **return** → gives you the result to use later.\n",
        "\n",
        "**Example:**\n",
        "\n",
        "```python\n",
        "def make_tea():\n",
        "    print(\"Step 1: Boil Water\")\n",
        "    print(\"Step 2: Add Milk\")\n",
        "    print(\"Step 3: Add Patti\")\n",
        "    print(\"Step 4: Serve Tea\")\n",
        "    return \"Tea successfully served ☕\"\n",
        "\n",
        "tea1 = make_tea()\n",
        "tea2 = make_tea()\n",
        "\n",
        "print(f\"{tea1} to Khala\")\n",
        "print(f\"{tea2} to Phuppo\")\n",
        "```\n",
        "\n",
        "---\n",
        "\n",
        "# 🔹 Types of Functions\n",
        "\n",
        "1. **Built-in Functions**\n",
        "\n",
        "   * Predefined in Python (e.g., `print()`, `len()`, `sum()`, `id()`, `eval()`).\n",
        "\n",
        "2. **User-defined Functions**\n",
        "\n",
        "   * Functions created by programmers for custom tasks.\n",
        "\n",
        "---\n",
        "\n"
      ],
      "metadata": {
        "id": "S4x78Lv0C95k"
      }
    },
    {
      "cell_type": "markdown",
      "source": [],
      "metadata": {
        "id": "jug97r3mbI-N"
      }
    },
    {
      "cell_type": "markdown",
      "source": [
        "## Built in Functions\n",
        "* Functions that come predefined with Python\n",
        "* Always available, no need to define them , Just call it anywhere in the program\n",
        "* `print(), len(), type(), max(), input()`\n",
        "* **Saves time**, no need to rewrite common code"
      ],
      "metadata": {
        "id": "DWejh2cLbcRU"
      }
    },
    {
      "cell_type": "code",
      "source": [
        "## Input Function\n",
        "\n",
        "user_input = input(\"Enter your Name : \")\n",
        "print(f'Hello : {user_input}')"
      ],
      "metadata": {
        "colab": {
          "base_uri": "https://localhost:8080/"
        },
        "id": "-nQ3pVWAbrEQ",
        "outputId": "54719a97-3904-4295-872e-82861c5b442a"
      },
      "execution_count": null,
      "outputs": [
        {
          "output_type": "stream",
          "name": "stdout",
          "text": [
            "Enter your Name : Maho\n",
            "Hello : Maho\n"
          ]
        }
      ]
    },
    {
      "cell_type": "code",
      "source": [
        "## length and type function\n",
        "\n",
        "word : str = \"python\"\n",
        "\n",
        "print(f'The type of word : {type(word)} and lenght is : {len(word)}')\n"
      ],
      "metadata": {
        "colab": {
          "base_uri": "https://localhost:8080/"
        },
        "id": "9W62autMb54z",
        "outputId": "9e3c1dfc-0e16-427f-bb3b-6573b62f48ab"
      },
      "execution_count": null,
      "outputs": [
        {
          "output_type": "stream",
          "name": "stdout",
          "text": [
            "The type of word : <class 'str'> and lenght is : 6\n"
          ]
        }
      ]
    },
    {
      "cell_type": "code",
      "source": [
        "# max built-in-function\n",
        "\n",
        "prices : list[int] = [10,20,4,99,100]\n",
        "highest_prices : int = max(prices)\n",
        "\n",
        "print(f'Highest Prize : {highest_prices}')"
      ],
      "metadata": {
        "colab": {
          "base_uri": "https://localhost:8080/"
        },
        "id": "SvEEgiw7cQaQ",
        "outputId": "4133f33b-914c-4f9c-99a9-7fbafefe3f29"
      },
      "execution_count": null,
      "outputs": [
        {
          "output_type": "stream",
          "name": "stdout",
          "text": [
            "Highest Prize : 100\n"
          ]
        }
      ]
    },
    {
      "cell_type": "code",
      "source": [
        "# sorting function sorts a function in ascending order by default\n",
        "\n",
        "ratings : list[int] = [2.5,3.5,4.2,5.5,1.5]\n",
        "sorted_ratings : int = sorted(ratings)\n",
        "\n",
        "print(f'The Sorted Ratings : {sorted_ratings}')"
      ],
      "metadata": {
        "colab": {
          "base_uri": "https://localhost:8080/"
        },
        "id": "KkJVa7flc4gR",
        "outputId": "db1c1d42-c711-4b9f-fd88-5cd33097bda4"
      },
      "execution_count": null,
      "outputs": [
        {
          "output_type": "stream",
          "name": "stdout",
          "text": [
            "The Sorted Ratings : [1.5, 2.5, 3.5, 4.2, 5.5]\n"
          ]
        }
      ]
    },
    {
      "cell_type": "code",
      "source": [
        "# Create a sequence of meals :\n",
        "\n",
        "for i in range(5):\n",
        "  print(f'Dish { i + 1 } is Ready !')\n",
        "  print('Serving')"
      ],
      "metadata": {
        "colab": {
          "base_uri": "https://localhost:8080/"
        },
        "id": "7Yy23YrcdXjJ",
        "outputId": "05263c46-1a5b-4c76-e5c7-db397056a769"
      },
      "execution_count": null,
      "outputs": [
        {
          "output_type": "stream",
          "name": "stdout",
          "text": [
            "Dish 1 is Ready !\n",
            "Serving\n",
            "Dish 2 is Ready !\n",
            "Serving\n",
            "Dish 3 is Ready !\n",
            "Serving\n",
            "Dish 4 is Ready !\n",
            "Serving\n",
            "Dish 5 is Ready !\n",
            "Serving\n"
          ]
        }
      ]
    },
    {
      "cell_type": "code",
      "source": [
        "# Return the address of memeory like labeling of dishes with order number\n",
        "# It returns the unique identity (memory address reference) of an object.\n",
        "\n",
        "# In CPython (the standard Python), this identity is usually the memory address where the object is stored.\n",
        "\n",
        "x = 48\n",
        "y = 48\n",
        "print(f'The memory address of x is : {id(x)} ') # same id\n",
        "print(f'The memory address of x is : {id(y)} ') # same id (because integers are immutable and reused)\n",
        "\n",
        "\n",
        "z = [1, 2, 3]\n",
        "print(f'Unique id : {id(z)}')   # unique id"
      ],
      "metadata": {
        "colab": {
          "base_uri": "https://localhost:8080/"
        },
        "id": "v--pYurQds1P",
        "outputId": "3a0d4a86-57eb-4796-afa5-cfd41024fcb7"
      },
      "execution_count": null,
      "outputs": [
        {
          "output_type": "stream",
          "name": "stdout",
          "text": [
            "The memory address of x is : 11643592 \n",
            "The memory address of x is : 11643592 \n",
            "Unique id : 140671389857472\n"
          ]
        }
      ]
    },
    {
      "cell_type": "code",
      "source": [
        "## eval expression (like calculating the bill at the end of the meal)\n",
        "# It calculates the actual total from that string(text)\n",
        "# eval() converts a string expression into real Python code and executes it → like turning an order slip into the real bill.\n",
        "\n",
        "expression = \"5 + 3 * 9\"\n",
        "result = eval(expression)\n",
        "\n",
        "print(f'The result of the expression is {result}')"
      ],
      "metadata": {
        "colab": {
          "base_uri": "https://localhost:8080/"
        },
        "id": "5pRVdq6ffr9S",
        "outputId": "050360ea-3c10-469c-ab99-1fb49c9b1bbf"
      },
      "execution_count": null,
      "outputs": [
        {
          "output_type": "stream",
          "name": "stdout",
          "text": [
            "the result of the expression is 32\n"
          ]
        }
      ]
    },
    {
      "cell_type": "markdown",
      "source": [
        "## User Defined Functions\n",
        "\n",
        "* Functions that you create yourself\n",
        "* Must be defined before use\n",
        "* Example :\n",
        "\n",
        "```\n",
        "def greet():\n",
        "  \n",
        "  print(f'Hello Maheera')\n",
        "\n",
        "greet()\n",
        "```\n",
        "\n",
        "\n",
        "* Special/custom tasks (like calculating area, greeting user, etc.)\n",
        "* Gives flexibility for your **own program needs**"
      ],
      "metadata": {
        "id": "qpQtMkmtivBR"
      }
    },
    {
      "cell_type": "code",
      "source": [
        "# Function\n",
        "\n",
        "def greet():\n",
        "  # Block of code\n",
        "  print(f'Hello Maheera')\n",
        "\n",
        "greet()"
      ],
      "metadata": {
        "colab": {
          "base_uri": "https://localhost:8080/"
        },
        "id": "BupgHLqmLuWP",
        "outputId": "b1e800a6-02b3-4a26-d6a1-3317d2e58f5a"
      },
      "execution_count": null,
      "outputs": [
        {
          "output_type": "stream",
          "name": "stdout",
          "text": [
            "Hello Maheera\n"
          ]
        }
      ]
    },
    {
      "cell_type": "code",
      "source": [
        "def greet(name): # function_name(parameters)\n",
        "  # Block of code\n",
        "\n",
        "  print(f'Hello {name}')\n",
        "\n",
        "greet(\"Mahi\") # function_name(arguments)\n",
        "greet(\"Maho\")"
      ],
      "metadata": {
        "colab": {
          "base_uri": "https://localhost:8080/"
        },
        "id": "3ScK1P5aNgjV",
        "outputId": "c5bf5723-d257-4a7a-a2bb-e6bf373db887"
      },
      "execution_count": null,
      "outputs": [
        {
          "output_type": "stream",
          "name": "stdout",
          "text": [
            "Hello Mahi\n",
            "Hello Maho\n"
          ]
        }
      ]
    },
    {
      "cell_type": "code",
      "source": [
        "## Additing two numbers using return\n",
        "\n",
        "def sum(num1,num2):\n",
        "  res = num1 + num2\n",
        "  return print(f'Sum : {res}')\n",
        "\n",
        "sum(2,6)"
      ],
      "metadata": {
        "colab": {
          "base_uri": "https://localhost:8080/"
        },
        "id": "e1QpQcRbN0Q5",
        "outputId": "263e33f2-697b-4051-976e-faa9dae4509b"
      },
      "execution_count": null,
      "outputs": [
        {
          "output_type": "stream",
          "name": "stdout",
          "text": [
            "Sum : 8\n"
          ]
        }
      ]
    },
    {
      "cell_type": "code",
      "source": [
        "## Default Parameters\n",
        "\n",
        "def greet_with_default(name = \"Guest\"):\n",
        "  print(f'Guest Name : {name}')\n",
        "\n",
        "greet_with_default(\"Hamna\")\n",
        "\n",
        "\n",
        "def add_two(a = 10 , b = 20):\n",
        "  print(f'Sum = {a + b}')\n",
        "\n",
        "add_two(1,2) # Sum = 3\n",
        "\n"
      ],
      "metadata": {
        "colab": {
          "base_uri": "https://localhost:8080/"
        },
        "id": "XMjbc2IAPpIV",
        "outputId": "080efa6f-19a1-4bac-b5f4-59306db1ef86"
      },
      "execution_count": null,
      "outputs": [
        {
          "output_type": "stream",
          "name": "stdout",
          "text": [
            "Guest Name : Hamna\n",
            "Sum = 3\n"
          ]
        }
      ]
    },
    {
      "cell_type": "markdown",
      "source": [
        "#### Mini Projects\n",
        "\n",
        "---\n",
        "\n",
        "\n",
        "\n",
        "*   List item\n",
        "*   List item\n",
        "\n"
      ],
      "metadata": {
        "id": "p49pEGgIT55f"
      }
    },
    {
      "cell_type": "code",
      "source": [
        "# Code\n",
        "\n",
        "def make_tea():\n",
        "  print('Step 1 : Boil Water')\n",
        "  print('Step 2 : Add Milk')\n",
        "  print('Step 3 : Add Patti')\n",
        "  print('Step 4 : Serve Tea')\n",
        "  # return \"☕\"\n",
        "  # return True\n",
        "  # return 1\n",
        "  return \"Tea succesfully Served\" # return funtion returns\n",
        "\n",
        "\n",
        "tea1 = make_tea()\n",
        "tea2 = make_tea()\n",
        "print(f'{tea1} to Khala')\n",
        "print(f'{tea2} to Phuppho')\n"
      ],
      "metadata": {
        "colab": {
          "base_uri": "https://localhost:8080/"
        },
        "id": "2OmFLGdET_Dd",
        "outputId": "fa099099-8e08-4ab4-8cad-af69cd99301c"
      },
      "execution_count": null,
      "outputs": [
        {
          "output_type": "stream",
          "name": "stdout",
          "text": [
            "Step 1 : Boil Water\n",
            "Step 2 : Add Milk\n",
            "Step 3 : Add Patti\n",
            "Step 4 : Serve Tea\n",
            "Step 1 : Boil Water\n",
            "Step 2 : Add Milk\n",
            "Step 3 : Add Patti\n",
            "Step 4 : Serve Tea\n",
            "Tea succesfully Served to Khala\n",
            "Tea succesfully Served to Phuppho\n"
          ]
        }
      ]
    },
    {
      "cell_type": "code",
      "source": [
        "def mahi_gpt(prompt):\n",
        "\n",
        "#  Actually we want to achieve that our function prints both User and AI question answer\n",
        "\n",
        "  print(f'User : {prompt}')\n",
        "  return f\"AI : Hello !How can I assist you today 👍\"\n",
        "\n",
        "# response = mahi_gpt(\"Hello , My name is Maheera\")  ## Another way to do it by using keyword argument\n",
        "\n",
        "## By using Keyword_argument :\n",
        "\n",
        "response = mahi_gpt(prompt=\"Hello , My name is Maheera\")\n",
        "\n",
        "print(response)"
      ],
      "metadata": {
        "id": "_vGRoP1VW0Dx",
        "colab": {
          "base_uri": "https://localhost:8080/"
        },
        "outputId": "b1562072-f10f-4223-8c46-b92b60342c6e"
      },
      "execution_count": null,
      "outputs": [
        {
          "output_type": "stream",
          "name": "stdout",
          "text": [
            "User : Hello , My name is Maheera\n",
            "AI : Hello !How can I assist you today 👍\n"
          ]
        }
      ]
    },
    {
      "cell_type": "code",
      "source": [
        "## Calculator\n",
        "\n",
        "## To call functions in main function so place main function after the functions ,other wise it will give Type error . because Python is an Interpreted language.\n",
        "\n",
        "# def calculations():\n",
        "#   addition()\n",
        "#   subtract()\n",
        "#   multiply()\n",
        "#   division()\n",
        "\n",
        "# calculations()\n",
        "\n",
        "\n",
        "def addition(a = 10 ,b = 10):\n",
        "  c = a + b\n",
        "  return print(f'Sum : {c}')\n",
        "\n",
        "# addition()\n",
        "\n",
        "def subtract(a = 2 ,b = 10):\n",
        "  c = a - b\n",
        "  return print(f'Subtraction : {c}')\n",
        "\n",
        "# subtract()\n",
        "\n",
        "\n",
        "def multiply(a = 5 ,b = 10):\n",
        "  c = a * b\n",
        "  return print(f'Multiply : {c}')\n",
        "\n",
        "# multiply()\n",
        "\n",
        "def division(a = 5 ,b = 10):\n",
        "  c = a / b\n",
        "  return print(f'Division : {c}')\n",
        "\n",
        "# division()\n",
        "\n",
        "\n",
        "def calculations():\n",
        "  addition()\n",
        "  subtract()\n",
        "  multiply()\n",
        "  division()\n",
        "\n",
        "calculations()"
      ],
      "metadata": {
        "colab": {
          "base_uri": "https://localhost:8080/"
        },
        "id": "ZVL3ZDwaL1pe",
        "outputId": "bc5fa06d-f912-4dd4-e58c-1b9ad7a7c049"
      },
      "execution_count": null,
      "outputs": [
        {
          "output_type": "stream",
          "name": "stdout",
          "text": [
            "Sum : 20\n",
            "Subtraction : -8\n",
            "Multiply : 50\n",
            "Division : 0.5\n"
          ]
        }
      ]
    },
    {
      "cell_type": "markdown",
      "source": [
        "## High Order Functions\n",
        "* Function that take another function as an argument or return a function as an output\n",
        "### Common High Order Functions\n",
        "* map()   : Apply a function to every item in a list (or iterable (like list or tuple)).\n",
        "* filter() : Keep only the items that meet a condition.\n",
        "* reduce() : Repeatedly apply a function to reduce a list into one value.\n",
        "* zip()  : Combine two or more lists element by element.\n",
        "* enumerate() : Add an index (position number) to each item in a list."
      ],
      "metadata": {
        "id": "tZ24cHj3-vGb"
      }
    },
    {
      "cell_type": "markdown",
      "source": [
        "## map() Function :         \n",
        "* The map() function applies a given function to **each item** in an iterable(like a list or tuple) and return an **itearator** with an **transformed value**\n",
        "\n",
        "#### Syntax\n",
        "` map(function , iterator) `\n",
        "\n",
        "Example :            \n",
        "* Applying map() to double each item in a list"
      ],
      "metadata": {
        "id": "w8Nsx2RfC21O"
      }
    },
    {
      "cell_type": "code",
      "source": [
        "# Example\n",
        "\n",
        "# Function to double a number\n",
        "\n",
        "def double(x):\n",
        "  return x * 2\n",
        "\n",
        "double(12)\n",
        "\n",
        "\n",
        "# Using map() to double the numbers\n",
        "\n",
        "numbers = [1 , 2 , 3 ,4 ]\n",
        "#                  func  , iterator\n",
        "doubled = list(map(double,numbers))\n",
        "print(doubled)\n"
      ],
      "metadata": {
        "colab": {
          "base_uri": "https://localhost:8080/"
        },
        "id": "MTe2SSrm-0zm",
        "outputId": "ac82da76-009c-4d52-f68a-6bf04e2302f2"
      },
      "execution_count": null,
      "outputs": [
        {
          "output_type": "stream",
          "name": "stdout",
          "text": [
            "[2, 4, 6, 8]\n"
          ]
        }
      ]
    },
    {
      "cell_type": "markdown",
      "source": [
        "## Filter Function :            \n",
        "* filters element based on a condition .\n",
        "* Basically it filter(choose) out some thing\n",
        "* Syntax :         \n",
        "` filter(function,iterable) `\n",
        "* Example :        \n",
        "* Use filters to extract even numbers\n",
        "\n"
      ],
      "metadata": {
        "id": "GAjf2OPYFkr7"
      }
    },
    {
      "cell_type": "code",
      "source": [
        "# Extract even numbers using filter((high order function))\n",
        "\n",
        "def is_even(e):\n",
        "  return e % 2 == 0\n",
        "\n",
        "\n",
        "numbers : list[int] = [ 1 , 2 , 3 ,4 , 5 ,6 , 7 , 8 , 9 , 10]\n",
        "\n",
        "# Filter the even number using high order functions\n",
        "\n",
        "even_numbers = list(filter(is_even,numbers))\n",
        "print(f'Even Numbers : {even_numbers}')"
      ],
      "metadata": {
        "colab": {
          "base_uri": "https://localhost:8080/"
        },
        "id": "WWCqSLyRETK0",
        "outputId": "0d80ad24-dd51-40d6-8fa3-c46d89ec9e7e"
      },
      "execution_count": null,
      "outputs": [
        {
          "output_type": "stream",
          "name": "stdout",
          "text": [
            "Even Numbers : [2, 4, 6, 8, 10]\n"
          ]
        }
      ]
    },
    {
      "cell_type": "markdown",
      "source": [
        "## Reduce Function :           \n",
        "* THe reduce() reduces an iterable into a single value by applying a function\n",
        "* Reduce a sequence into a single value\n",
        "* Syntax :           \n",
        "` reduce(function , accumulator) `\n",
        "* Example :          \n",
        "* Use reduce() to find the product of all numbers in a list"
      ],
      "metadata": {
        "id": "k-yWTX_2Hy-7"
      }
    },
    {
      "cell_type": "code",
      "source": [
        "# Example of reduce function\n",
        "\n",
        "# form fucntools import reduce\n",
        "\n",
        "from functools import reduce\n",
        "\n",
        "def multiply(x,y):\n",
        "  return x * y\n",
        "\n",
        "numbers : list[int] = [1,4,5]\n",
        "multiply_numbers = reduce(multiply,numbers)\n",
        "print(f'Multiply Numbers : {multiply_numbers}')"
      ],
      "metadata": {
        "colab": {
          "base_uri": "https://localhost:8080/"
        },
        "id": "Jr0xR4P8HqKh",
        "outputId": "cd9bdc5c-89bb-45d1-8ac3-d9b1aa95f474"
      },
      "execution_count": null,
      "outputs": [
        {
          "output_type": "stream",
          "name": "stdout",
          "text": [
            "Multiply Numbers : 20\n"
          ]
        }
      ]
    },
    {
      "cell_type": "markdown",
      "source": [
        "## Zip() Function :          \n",
        "* The zip() function combines multiple iterables **element-wise** into tuples\n",
        "* Syntax\n",
        "` zip(iterable1 , iterable2 , ....)`\n",
        "* Exaample :\n",
        "* Pairing numbers and ages using zip()\n"
      ],
      "metadata": {
        "id": "JBSuj-FWMgwD"
      }
    },
    {
      "cell_type": "code",
      "source": [
        "# Using zip() to pair numbers and ages\n",
        "\n",
        "names : list[str] = [\"Mahi\",\"Zoha\",\"Aiza\"]\n",
        "ages : list[int] = [18 , 20 , 15]\n",
        "\n",
        "# When function return objects then list function is used\n",
        "#          itera 1 , iterator 3\n",
        "paired = list(zip(names , ages))\n",
        "print(f'{paired}')"
      ],
      "metadata": {
        "colab": {
          "base_uri": "https://localhost:8080/"
        },
        "id": "sJP6zVe5KKCY",
        "outputId": "ebc0441b-8dac-4f84-ee08-792bae2ba5f4"
      },
      "execution_count": null,
      "outputs": [
        {
          "output_type": "stream",
          "name": "stdout",
          "text": [
            "[('Mahi', 18), ('Zoha', 20), ('Aiza', 15)]\n"
          ]
        }
      ]
    },
    {
      "cell_type": "markdown",
      "source": [
        "## Enumerate Function :         \n",
        "* Enumerate function add an index to the function , make it easy to track to elements position\n",
        "* Syntax :           \n",
        "` enumerate(iterable,start = 0) `\n",
        "* Use enumerate to create an index list of fruits"
      ],
      "metadata": {
        "id": "2ifPd8JJOgn0"
      }
    },
    {
      "cell_type": "code",
      "source": [
        "# Create index list of fruits using enumerate\n",
        "\n",
        "fruits : list[str]  = ['Apple',\"Banana\",\"Cherry\"]\n",
        "\n",
        "for index, fruits in enumerate(fruits , start = 5):\n",
        "  print(f'{index} : {fruits}')"
      ],
      "metadata": {
        "colab": {
          "base_uri": "https://localhost:8080/"
        },
        "id": "3_6GBll8NtxX",
        "outputId": "36eec9b4-ead6-4cfd-aa2b-89fd94248fd4"
      },
      "execution_count": null,
      "outputs": [
        {
          "output_type": "stream",
          "name": "stdout",
          "text": [
            "5 : Apple\n",
            "6 : Banana\n",
            "7 : Cherry\n"
          ]
        }
      ]
    },
    {
      "cell_type": "markdown",
      "source": [
        "# 📝 Notes on Python Decorators\n",
        "\n",
        "## 🔹 1. What are Decorators?\n",
        "\n",
        "* Special functions in Python.\n",
        "* They **wrap other functions** to add extra features.\n",
        "* Use `@decorator_name` syntax.\n",
        "\n",
        "---\n",
        "\n",
        "## 🔹 2. Why Use Decorators?\n",
        "\n",
        "* Avoid repeating the same code.\n",
        "* Keep code **clean, reusable, and organized**.\n",
        "* Add features like logging, security, timing, validation.\n",
        "\n",
        "---\n",
        "\n",
        "## 🔹 3. How Decorators Work (Steps)\n",
        "\n",
        "1. Write a decorator function → takes another function as argument.\n",
        "2. Inside, create a **wrapper function** → adds extra work.\n",
        "3. Call the original function inside the wrapper.\n",
        "4. Return the wrapper.\n",
        "5. Use `@decorator_name` above your function.\n",
        "\n",
        "---\n",
        "\n",
        "## 🔹 4. Syntax of a Decorator\n",
        "\n",
        "```python\n",
        "def decorator_name(func):       \n",
        "    def wrapper(*args, **kwargs):  \n",
        "        # Code before\n",
        "        result = func(*args, **kwargs)  \n",
        "        # Code after\n",
        "        return result\n",
        "    return wrapper\n",
        "\n",
        "@decorator_name\n",
        "def my_function():\n",
        "    print(\"Hello!\")\n",
        "```\n",
        "\n",
        "---\n",
        "\n",
        "## 🔹 5. Example (Basic)\n",
        "\n",
        "```python\n",
        "def my_decorator(func):\n",
        "    def wrapper():\n",
        "        print(\"Before function\")\n",
        "        func()\n",
        "        print(\"After function\")\n",
        "    return wrapper\n",
        "\n",
        "@my_decorator\n",
        "def say_hi():\n",
        "    print(\"Hi!\")\n",
        "\n",
        "say_hi()\n",
        "```\n",
        "\n",
        "👉 Output:\n",
        "\n",
        "```\n",
        "Before function\n",
        "Hi!\n",
        "After function\n",
        "```\n",
        "\n",
        "---\n",
        "\n",
        "## 🔹 6. Real-Life Uses of Decorators\n",
        "\n",
        "* **Logging** → Print messages before/after functions.\n",
        "* **Authentication** → Check if user is logged in.\n",
        "* **Timing** → Measure how long a function takes.\n",
        "* **Validation** → Check function arguments.\n",
        "\n",
        "---\n",
        "\n",
        "✅ **Key Point:**\n",
        "A **decorator** = A function that **wraps another function** to give it new powers 🚀.\n",
        "\n"
      ],
      "metadata": {
        "id": "5w5ty6gMwNiL"
      }
    },
    {
      "cell_type": "code",
      "source": [],
      "metadata": {
        "id": "sJlbcu4Knw1I"
      },
      "execution_count": null,
      "outputs": []
    }
  ]
}