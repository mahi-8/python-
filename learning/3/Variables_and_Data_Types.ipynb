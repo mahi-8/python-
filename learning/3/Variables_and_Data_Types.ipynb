{
  "nbformat": 4,
  "nbformat_minor": 0,
  "metadata": {
    "colab": {
      "provenance": []
    },
    "kernelspec": {
      "name": "python3",
      "display_name": "Python 3"
    },
    "language_info": {
      "name": "python"
    }
  },
  "cells": [
    {
      "cell_type": "markdown",
      "source": [
        "### Variables\n",
        "* A variable is a container that **temporarily** stores data during the execution of a program\n",
        "* The value stored in a variable can change during the program's execution, which is why it is called a \"**variable.**\"\n",
        "### Rules for writing a variable name\n",
        "\n",
        "*  Start with a Letter or Underscore:\n",
        "*  Variable names cannot begin with a digit.\n",
        "*  Variable names can only contain letters, numbers, and underscores\n",
        "*  Variable names are case-sensitive.\n",
        "*  Do not use Python’s reserved keywords\n",
        "*  Use meaningful and descriptive names .\n",
        "\n",
        "**Examples** :\n",
        " ``\n",
        "  username, _firstname\n",
        "  user_name\n",
        "  age1\n",
        "  FirstName and firstname (both are different)\n",
        " ``\n",
        "\n",
        "### Variable Names Convention :\n",
        "\n",
        "\n",
        "1.   **Snake Case :**  All letters are in lowercase, and words are separated by underscores.\n",
        "Example : ` user_name, first_name.`\n",
        "2.   **Pascal Case :** The first letter of each word is capitalized, and there are no separators.\n",
        "Example : `UserName, FirstName.`\n",
        "3.   **Camel Case :** The first word is in lowercase, and the first letter of each subsequent word is capitalized.\n",
        "Examples : ` userName, firstName`\n",
        "\n",
        "##  Initializing Variables :     \n",
        "**Syntax** :    \n",
        "               To create a variable, you need three things:\n",
        "\n",
        "\n",
        "*   **Variable Name :** The name of the variable (e.g., fruit).\n",
        "*   **Assignment Operator :**  The equal sign (=) is used to assign a value to the variable.\n",
        "*   **Value :** The data you want to store in the variable (e.g., apple).\n",
        "\n",
        "**Examples :**\n",
        "`fav_food = 'Boryani'`\n",
        "`a = 10`\n",
        "\n",
        "\n",
        "\n",
        "\n",
        "\n"
      ],
      "metadata": {
        "id": "llw-h28BfZv2"
      }
    },
    {
      "cell_type": "code",
      "execution_count": null,
      "metadata": {
        "id": "1sXmwiP6qDo6"
      },
      "outputs": [],
      "source": [
        "fav_food : str = 'Pasta'\n",
        "grocery_item : str = 'Macroni'\n",
        "electicity_bill : int = 12000"
      ]
    },
    {
      "cell_type": "markdown",
      "source": [
        "# Data Types in Python\n",
        "\n",
        "Let's understand and learn the data types in python :    \n",
        "\n",
        "**Common Data Types in Python**\n",
        "\n",
        "\n",
        "\n",
        "\n",
        "\n",
        "*   str    ('Hello')\n",
        "\n",
        "*   int  (999)\n",
        "\n",
        "*   float (99.9)\n",
        "\n",
        "*   bool  (True,False)\n",
        "\n",
        "*   list  [1,2,3,4]\n",
        "\n",
        "*   tuple (1,2,3)\n",
        "\n",
        "*   set  {1, 2, 3}\n",
        "\n",
        "*   dict  \t{\"name\": \"Mahi\"}\n",
        "\n",
        "*  NoneType None\n",
        "\n",
        "\n",
        "\n",
        "\n"
      ],
      "metadata": {
        "id": "MAKlrR3C6QIV"
      }
    },
    {
      "cell_type": "markdown",
      "source": [
        "# String :\n",
        "*           Sequence of data enclosed in quotes\n",
        "*           Strings are mutuable (created once , not changed )\n"
      ],
      "metadata": {
        "id": "Sr34k1R53w7K"
      }
    },
    {
      "cell_type": "code",
      "source": [
        "# To understand data types , we will learn data types using examples\n",
        "\n",
        "\n",
        "name = \"Mahi\"\n",
        "\n",
        "\n",
        "# Type and length are built-in-functions\n",
        "# Type  Function\n",
        "print(type(name)) # str\n",
        "\n",
        "# length function\n",
        "\n",
        "print(len(name))  # length function is only applicable to strings\n",
        "\n"
      ],
      "metadata": {
        "colab": {
          "base_uri": "https://localhost:8080/"
        },
        "id": "SclSgtFMZnkN",
        "outputId": "4084aede-d90e-4f8f-b948-9aba20239e3c"
      },
      "execution_count": null,
      "outputs": [
        {
          "output_type": "stream",
          "name": "stdout",
          "text": [
            "<class 'str'>\n",
            "4\n"
          ]
        }
      ]
    },
    {
      "cell_type": "markdown",
      "source": [
        "# String Concatenation"
      ],
      "metadata": {
        "id": "e6CWNTOXGsDF"
      }
    },
    {
      "cell_type": "code",
      "source": [
        "name : str = \"Mahi\"\n",
        "age : int = 17\n",
        "student_class  : int = 11\n",
        "email : str = 'maheerarehman1@gmail.com'\n",
        "\n",
        "\n",
        "#                           Ways of Concatenation\n",
        "\n",
        "# Method 1\n",
        "\n",
        "# By this we only concatatenate to same data types\n",
        "personal_id : str = name +  \"\"  + email\n",
        "employee_info : str = name + str(age)\n",
        "education_life : int = age + student_class\n",
        "\n",
        "print(personal_id)\n",
        "print(employee_info)\n",
        "print(education_life)\n",
        "\n",
        "\n",
        "# Method 2\n",
        "\n",
        "# F-string\n",
        "\n",
        "print('My name : ' + name)\n",
        "print('My age : ' , age)\n",
        "\n",
        "print(f'My name : ' + name)\n",
        "print(f'My age : ' , age)\n",
        "\n",
        "# The best way to do it is :\n",
        "\n",
        "print(f'My name is {name} , Age is {age} , email {email}')\n",
        "\n"
      ],
      "metadata": {
        "id": "jsIUXdQhGwo9",
        "colab": {
          "base_uri": "https://localhost:8080/"
        },
        "outputId": "3c290abf-5eb8-4c9f-8574-90a8bf8ee64c"
      },
      "execution_count": null,
      "outputs": [
        {
          "output_type": "stream",
          "name": "stdout",
          "text": [
            "Mahimaheerarehman1@gmail.com\n",
            "Mahi17\n",
            "28\n",
            "My name : Mahi\n",
            "My age :  17\n",
            "My name : Mahi\n",
            "My age :  17\n",
            "My name is Mahi , Age is 17 , email maheerarehman1@gmail.com\n"
          ]
        }
      ]
    },
    {
      "cell_type": "markdown",
      "source": [
        "# Doc-String (Documentation String , Multi-Line String)\n",
        "\n",
        "\n",
        "*   Start by using **triple** double quotes or **triple** single quotes.\n",
        "*   Syntax :\n",
        "```\n",
        " ''''''\n",
        " \"\"\"\"\"\"\n",
        "```\n"
      ],
      "metadata": {
        "id": "mhacikAQKYG_"
      }
    },
    {
      "cell_type": "code",
      "source": [
        "#  This gives an error\n",
        "\n",
        "# sentence : str = 'Hello Everyonne . My name is Maheera\n",
        "# I am a software Developer . I am a student learning and practicing Python'\n",
        "\n",
        "\n",
        "# Using DOC string (which is presentable)\n",
        "\n",
        "personal_info : str = '''\n",
        "My name is Maheera .\n",
        "I am a software Developer .\n",
        "I am learning and practicing Python\n",
        "'''\n",
        "\n",
        "print(personal_info)"
      ],
      "metadata": {
        "colab": {
          "base_uri": "https://localhost:8080/"
        },
        "id": "dIIJ8y15KhiI",
        "outputId": "a7c855cc-7d5d-418f-b5a6-79ca6fa285fe"
      },
      "execution_count": null,
      "outputs": [
        {
          "output_type": "stream",
          "name": "stdout",
          "text": [
            "\n",
            "My name is Maheera .\n",
            "I am a software Developer .\n",
            "I am learning and practicing Python\n",
            "\n"
          ]
        }
      ]
    },
    {
      "cell_type": "markdown",
      "source": [
        "# Number\n"
      ],
      "metadata": {
        "id": "WFYvIluJ7Rpq"
      }
    },
    {
      "cell_type": "code",
      "source": [
        "tax : int = 12\n",
        "price : float = 99.9\n",
        "\n",
        "print(tax)\n",
        "print(type(tax))\n",
        "\n",
        "print(price)\n",
        "print(type(price))\n",
        "print(len(price))     # length function is only applicable to string\n",
        "\n",
        "\n"
      ],
      "metadata": {
        "id": "GuRzn5Qm7Sr3",
        "colab": {
          "base_uri": "https://localhost:8080/",
          "height": 280
        },
        "outputId": "272c5366-e421-4929-847a-c3019b98ca86"
      },
      "execution_count": null,
      "outputs": [
        {
          "output_type": "stream",
          "name": "stdout",
          "text": [
            "12\n",
            "<class 'int'>\n",
            "99.9\n",
            "<class 'float'>\n"
          ]
        },
        {
          "output_type": "error",
          "ename": "TypeError",
          "evalue": "object of type 'float' has no len()",
          "traceback": [
            "\u001b[0;31m---------------------------------------------------------------------------\u001b[0m",
            "\u001b[0;31mTypeError\u001b[0m                                 Traceback (most recent call last)",
            "\u001b[0;32m/tmp/ipython-input-6-4002362882.py\u001b[0m in \u001b[0;36m<cell line: 0>\u001b[0;34m()\u001b[0m\n\u001b[1;32m      7\u001b[0m \u001b[0mprint\u001b[0m\u001b[0;34m(\u001b[0m\u001b[0mprice\u001b[0m\u001b[0;34m)\u001b[0m\u001b[0;34m\u001b[0m\u001b[0;34m\u001b[0m\u001b[0m\n\u001b[1;32m      8\u001b[0m \u001b[0mprint\u001b[0m\u001b[0;34m(\u001b[0m\u001b[0mtype\u001b[0m\u001b[0;34m(\u001b[0m\u001b[0mprice\u001b[0m\u001b[0;34m)\u001b[0m\u001b[0;34m)\u001b[0m\u001b[0;34m\u001b[0m\u001b[0;34m\u001b[0m\u001b[0m\n\u001b[0;32m----> 9\u001b[0;31m \u001b[0mprint\u001b[0m\u001b[0;34m(\u001b[0m\u001b[0mlen\u001b[0m\u001b[0;34m(\u001b[0m\u001b[0mprice\u001b[0m\u001b[0;34m)\u001b[0m\u001b[0;34m)\u001b[0m     \u001b[0;31m# length function is only applicable to string\u001b[0m\u001b[0;34m\u001b[0m\u001b[0;34m\u001b[0m\u001b[0m\n\u001b[0m\u001b[1;32m     10\u001b[0m \u001b[0;34m\u001b[0m\u001b[0m\n\u001b[1;32m     11\u001b[0m \u001b[0;34m\u001b[0m\u001b[0m\n",
            "\u001b[0;31mTypeError\u001b[0m: object of type 'float' has no len()"
          ]
        }
      ]
    },
    {
      "cell_type": "markdown",
      "source": [
        "# Boolean\n",
        "\n",
        "#### Booleans represent one of two values: True or False.\n",
        "#### The **bool()** function allows you to evaluate any value, and give you True or False in return,\n",
        "\n",
        "## Boolean in Expressions :\n",
        "\n",
        "\n",
        "\n",
        "*   Almost any value is evaluated to True if it has some sort of **content**.\n",
        "\n",
        "*   Any string is True, except **empty strings**.\n",
        "\n",
        "*   Any number is True, except **0**.\n",
        "\n",
        "*   Any list, tuple, set, and dictionary are True, except **empty ones**.\n",
        "\n",
        "\n",
        "### For Example :        \n",
        "\n",
        "```\n",
        "x = None\n",
        "print(bool(x))\n",
        "\n",
        "# Returns False as x is an empty sequence\n",
        "x = ()\n",
        "print(bool(x))\n",
        "\n",
        "# Returns False as x is an empty mapping\n",
        "x = {}\n",
        "print(bool(x))\n",
        "\n",
        "# Returns False as x is 0\n",
        "y = 0.0\n",
        "print(bool(x))\n",
        "\n",
        "# Returns True as y is a non empty string\n",
        "y = 'Mahi'\n",
        "print(bool(x))\n",
        "\n",
        "# Returns True bcz it have some sort of content\n",
        "\n",
        "y = bool(\"abc\")\n",
        "\n",
        "# Returns True as x is a non empty string\n",
        "\n",
        "y = bool(123)\n",
        "\n",
        "# Returns True as x is a non empty string\n",
        "y = bool([\"apple\", \"cherry\", \"banana\"])\n",
        "\n",
        "# Returns True as x is a non empty string\n",
        "```\n",
        "* In boolean True as 1 or False as 0\n",
        "* Write True, False in capital letters\n",
        "**Python evaluates Boolean expressions from left to right**\n",
        "\n",
        "# Use :     \n",
        "\n",
        "* Typically used in condition , loops or logical evaluation"
      ],
      "metadata": {
        "id": "vlUTRe2HvtwY"
      }
    },
    {
      "cell_type": "code",
      "source": [
        "# Examples\n",
        "\n",
        "is_logged_in : bool = True\n",
        "are_road_closed : bool = False\n",
        "is_internet_closed : bool = True\n",
        "\n",
        "print(is_logged_in)\n",
        "print(are_road_closed)\n",
        "print(type(is_internet_closed))"
      ],
      "metadata": {
        "id": "cImCRuGSN1Sc"
      },
      "execution_count": null,
      "outputs": []
    },
    {
      "cell_type": "markdown",
      "source": [
        "# 📝 Input\n",
        "---\n",
        "\n",
        "### 🔹 What is User Input?\n",
        "\n",
        "In Python, you can ask the user to enter data using the **`input()`** function. This makes your program interactive.\n",
        "\n",
        "> 📌 Syntax: `input(\"Prompt message\")`  \n",
        "> 📌 The input is always returned as a **string**.\n"
      ],
      "metadata": {
        "id": "1trtjd8pkW4w"
      }
    },
    {
      "cell_type": "code",
      "source": [
        "# practice\n",
        "\n",
        "name = input(\"Enter your name: \")\n",
        "print(f'Hello : {name}')\n"
      ],
      "metadata": {
        "colab": {
          "base_uri": "https://localhost:8080/"
        },
        "id": "ELL_2Y76curD",
        "outputId": "534f665c-fa2b-4d83-d86b-d22a5cf17303"
      },
      "execution_count": 4,
      "outputs": [
        {
          "output_type": "stream",
          "name": "stdout",
          "text": [
            "Enter your name: m\n",
            "Hello : m\n"
          ]
        }
      ]
    },
    {
      "cell_type": "markdown",
      "source": [
        "---\n",
        "\n",
        "### 🔹 Converting Input to Numbers\n",
        "\n",
        "By default, `input()` gives you a string. If you want to work with numbers, convert it using:\n",
        "\n",
        "- `int()` → to get an integer\n",
        "- `float()` → to get a decimal number\n"
      ],
      "metadata": {
        "id": "Dg7v1SdYc7Iz"
      }
    },
    {
      "cell_type": "code",
      "source": [
        "# Practice\n",
        "\n",
        "age = int(input(\"Enter your age: \"))\n",
        "height = float(input(\"Enter your height in meters: \"))\n",
        "\n",
        "print(f\"You are {age} years old and, height {height} meters tall.\")\n"
      ],
      "metadata": {
        "colab": {
          "base_uri": "https://localhost:8080/"
        },
        "id": "lK8sCVToc34A",
        "outputId": "1cb13c4e-bd93-483c-d6a0-9726c4da56be"
      },
      "execution_count": 5,
      "outputs": [
        {
          "output_type": "stream",
          "name": "stdout",
          "text": [
            "Enter your age: 16\n",
            "Enter your height in meters: 8.6\n",
            "You are 16 years old and, height 8.6 meters tall.\n"
          ]
        }
      ]
    },
    {
      "cell_type": "markdown",
      "source": [
        "---\n",
        "\n",
        "### 🔹 Example: Simple Calculator\n",
        "\n",
        "Let’s create a simple calculator that adds two numbers entered by the user.\n"
      ],
      "metadata": {
        "id": "JHPBgZL3dKvM"
      }
    },
    {
      "cell_type": "code",
      "source": [
        "# Simple project\n",
        "\n",
        "num1 = float(input(\"Enter first number: \"))\n",
        "num2 = float(input(\"Enter second number: \"))\n",
        "\n",
        "# Addition\n",
        "addition = num1 + num2\n",
        "# Subtrction\n",
        "subtraction = num1 - num2\n",
        "# Multiplication\n",
        "multiplication = num1 * num2\n",
        "# Division\n",
        "division = num1 / num2\n",
        "\n",
        "\n",
        "print(f'Addition : {addition}')\n",
        "print(f'Subtraction : {subtraction}')\n",
        "print(f'Multiplication : {multiplication}')\n",
        "print(f'Division : {division}')\n"
      ],
      "metadata": {
        "colab": {
          "base_uri": "https://localhost:8080/"
        },
        "id": "_vE6hf8BdOHW",
        "outputId": "8ffafd10-4843-4f98-b079-0edb2ee612dd"
      },
      "execution_count": 3,
      "outputs": [
        {
          "output_type": "stream",
          "name": "stdout",
          "text": [
            "Enter first number: 12\n",
            "Enter second number: 2\n",
            "Addition : 14.0\n",
            "Subtraction : 10.0\n",
            "Multiplication : 24.0\n",
            "Division : 6.0\n"
          ]
        }
      ]
    }
  ]
}