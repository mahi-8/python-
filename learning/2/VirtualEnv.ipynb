{
  "nbformat": 4,
  "nbformat_minor": 0,
  "metadata": {
    "colab": {
      "provenance": []
    },
    "kernelspec": {
      "name": "python3",
      "display_name": "Python 3"
    },
    "language_info": {
      "name": "python"
    }
  },
  "cells": [
    {
      "cell_type": "markdown",
      "source": [
        "# Introduction to Virtual Environments\n",
        "\n",
        "## What is VE :  \n",
        "* A tools for isolating project dependies in python .\n",
        "### Purpose :    \n",
        "* Prevents conflicts between libraries across different projects .\n",
        "### Isolation :       \n",
        "* Create a **self-contained space** for each project's requirements .\n",
        "\n",
        "\n",
        "### Benefits of Using VE :         \n",
        "* **Dependency Isolation** : Each project has its own set of libraries .\n",
        "* **Version Conflict Prevention** : Avoid issues between different project requirements\n",
        "* **Replicable setups** : Easily share or deploy projects with exact dependencies\n",
        "## Understanding :    \n",
        "\n",
        "*           It means that every virtual environment in python have a       \n",
        "           **separate Interpretor** that work on different dependies ."
      ],
      "metadata": {
        "id": "1-IZyhh7HnKJ"
      }
    },
    {
      "cell_type": "markdown",
      "source": [
        "# How to create VE :      \n",
        "In order to create the virtual environment , first search for\n",
        "* Anaconda\n",
        "* Change the Directory :\n",
        "* Write these commands :\n",
        "```\n",
        "    cd\n",
        "    conda create -n my_env python=3.10\n",
        "    conda create -n first_env python=3.10\n",
        "```\n",
        "\n",
        "* To activate the conda , We use this command :    \n",
        "\n",
        "```\n",
        "   conda activate first_env\n",
        "   conda deactivate\n",
        "```\n",
        "* After activating conda check python version is installed or not :     \n",
        "```\n",
        "python -V\n",
        "```\n",
        "\n",
        "\n",
        "* TO install other libraries in python in VE :       \n",
        "\n",
        "\n",
        "```\n",
        " pip install numpy=2.2\n",
        " conda install pandas\n",
        "```\n",
        "\n",
        "* To check how much **packages** added in our VE project , we will write this command :      \n",
        "\n",
        "\n",
        "```\n",
        "conda list\n",
        "```\n",
        "* To check how much **environments** are available in our system\n",
        "\n",
        "\n",
        "```\n",
        "conda info -e (flag presents the enviromment )\n",
        "```\n",
        "* TO delete the environment :        \n",
        "\n",
        "\n",
        "```\n",
        "conda remove --name first_env --all\n",
        "```\n",
        "\n",
        "\n",
        "\n",
        "\n",
        "\n",
        "\n",
        "\n",
        "\n",
        "\n"
      ],
      "metadata": {
        "id": "GZ5y8BcAf7Pq"
      }
    }
  ]
}