{
  "nbformat": 4,
  "nbformat_minor": 0,
  "metadata": {
    "colab": {
      "provenance": []
    },
    "kernelspec": {
      "name": "python3",
      "display_name": "Python 3"
    },
    "language_info": {
      "name": "python"
    }
  },
  "cells": [
    {
      "cell_type": "markdown",
      "source": [
        "# **List**\n",
        "\n",
        "\n",
        "* ordered and mutuable(edited at any point)\n",
        "*   dynamic lenght\n",
        "*   hytrogenous data type\n",
        "*   **index** :            \n",
        "*   positive 0 to n-1\n",
        "* negative -1 to lenght                   \n",
        "\n",
        "\n",
        "\n",
        "# Why Lists are Important\n"
      ],
      "metadata": {
        "id": "4EsnSgoFTc_d"
      }
    },
    {
      "cell_type": "code",
      "source": [
        "# Practice\n",
        "\n",
        "from typing import Any\n",
        "\n",
        "# ->                    0       1        2     (indexing)\n",
        "users : list[Any] = [\"Qasim\",\"Hira\",\"Zeeshan\"]\n",
        "# ->                    -3       -2          -1 (negative indexing)\n",
        "\n",
        "print(users[0])  # Qasim\n",
        "print(users[-3])  # Qaim\n",
        "\n",
        "# type\n",
        "\n",
        "print(type(users)) # list\n",
        "print(type(users[0])) # str\n",
        "\n",
        "print(f'Founder of PIAIC : {users[1].upper()}')"
      ],
      "metadata": {
        "id": "Z_nVNomnTigL",
        "colab": {
          "base_uri": "https://localhost:8080/"
        },
        "outputId": "2231af21-a992-454c-e0b9-7540915d4b65"
      },
      "execution_count": null,
      "outputs": [
        {
          "output_type": "stream",
          "name": "stdout",
          "text": [
            "Qasim\n",
            "Qasim\n",
            "<class 'list'>\n",
            "<class 'str'>\n",
            "Founder of PIAIC : HIRA\n"
          ]
        }
      ]
    },
    {
      "cell_type": "markdown",
      "source": [
        "# Slicing (range)\n",
        "\n",
        "\n",
        "\n",
        "*   start : int = include\n",
        "*   stop : int = **n-1**\n",
        "*   step : int = sequence\n",
        "\n",
        "\n",
        "*  slicing iteration is from left ot right\n",
        "\n",
        "**Slicing** works in lists.\n",
        "But slicing is not limited to lists — it also works on other sequence types like strings and tuples.\n"
      ],
      "metadata": {
        "id": "MsBcdhq3vdUW"
      }
    },
    {
      "cell_type": "code",
      "source": [
        "# List is also a function\n",
        "\n",
        "characters : str = list('ABCDEFGHIJKLMNOPQRSTWXYZ')\n",
        "print(characters)"
      ],
      "metadata": {
        "colab": {
          "base_uri": "https://localhost:8080/"
        },
        "id": "HdVkLsPYwRtn",
        "outputId": "cadf4954-b850-433c-f9a4-3eb300a6edd8"
      },
      "execution_count": null,
      "outputs": [
        {
          "output_type": "stream",
          "name": "stdout",
          "text": [
            "['A', 'B', 'C', 'D', 'E', 'F', 'G', 'H', 'I', 'J', 'K', 'L', 'M', 'N', 'O', 'P', 'Q', 'R', 'S', 'T', 'W', 'X', 'Y', 'Z']\n"
          ]
        }
      ]
    },
    {
      "cell_type": "code",
      "source": [
        "\n",
        "# Indexing ->             0   1   2   3   4   5   6   7   8   9  10  11  12   13 14  15  16  17  18  19  20  21  22 23  24\n",
        "\n",
        "alphabets : list[str] = ['A','B','C','D','E','F','G','H','I','J','K','L','M','N','P','Q','R','S','T','U','V','W','X','Y','Z']\n",
        "# negative indesxing -->\n",
        "\n",
        "print(alphabets)\n",
        "print(len(alphabets)) # 25\n",
        "\n"
      ],
      "metadata": {
        "colab": {
          "base_uri": "https://localhost:8080/"
        },
        "id": "x7L8iaRTwoVu",
        "outputId": "8c7ff93c-6261-4919-9d8d-af88f3793480"
      },
      "execution_count": null,
      "outputs": [
        {
          "output_type": "stream",
          "name": "stdout",
          "text": [
            "['A', 'B', 'C', 'D', 'E', 'F', 'G', 'H', 'I', 'J', 'K', 'L', 'M', 'N', 'P', 'Q', 'R', 'S', 'T', 'U', 'V', 'W', 'X', 'Y', 'Z']\n",
            "25\n"
          ]
        }
      ]
    },
    {
      "cell_type": "code",
      "source": [
        "# Slicing\n",
        "\n",
        "\n",
        "alphabets : list[str] = ['A','B','C','D','E','F','G','H','I','J','K','L','M','N','P','Q','R','S','T','U','V','W','X','Y','Z']\n",
        "\n",
        "print(alphabets[0:2])   # 0 is the start ans 2 is the stop \" 2-1 \" : 1 so [A,B]\n",
        "\n",
        "print(alphabets[:2])\n",
        "\n",
        "print(alphabets[-25:-23]) # -24 - 1 = -25\n",
        "\n",
        "print(alphabets[0:2 : 1]) # start , stop , step\n",
        "\n",
        "print(alphabets[::3])\n",
        "\n",
        "print(alphabets[2:-22])\n",
        "\n",
        "print(alphabets[-1:-5]) # As we iteration starts from left to right\n",
        "\n",
        "print(alphabets[-1:-5:-1])\n"
      ],
      "metadata": {
        "colab": {
          "base_uri": "https://localhost:8080/"
        },
        "id": "ceYCM9YSxoIP",
        "outputId": "03548fba-cef4-4b2f-ae18-44b47fb15a11"
      },
      "execution_count": null,
      "outputs": [
        {
          "output_type": "stream",
          "name": "stdout",
          "text": [
            "['A', 'B']\n",
            "['A', 'B']\n",
            "['A', 'B']\n",
            "['A', 'B']\n",
            "['A', 'D', 'G', 'J', 'M', 'Q', 'T', 'W', 'Z']\n",
            "['C']\n",
            "['Z', 'Y', 'X', 'W']\n"
          ]
        }
      ]
    },
    {
      "cell_type": "markdown",
      "source": [
        "## List lenght\n",
        "\n"
      ],
      "metadata": {
        "id": "MO2RjLa8k1y6"
      }
    },
    {
      "cell_type": "code",
      "source": [
        "# List of alphabets\n",
        "\n",
        "#                         0   1   2   3   4   5   6   7   8   9   10 11  12  13  14  15  16  17  18  19  20  21  22  23  24\n",
        "alphabets : list[str] = ['A','B','C','D','E','F','G','H','I','J','K','L','M','N','P','Q','R','S','T','U','V','W','X','Y','Z']\n",
        "\n",
        "print(len(alphabets)) # it is Interesting that len func calculates from 1 not from 0 ."
      ],
      "metadata": {
        "colab": {
          "base_uri": "https://localhost:8080/"
        },
        "id": "fLJab1yyk7GP",
        "outputId": "726f70be-4183-498b-9f4d-91a1525c886a"
      },
      "execution_count": null,
      "outputs": [
        {
          "output_type": "stream",
          "name": "stdout",
          "text": [
            "25\n"
          ]
        }
      ]
    },
    {
      "cell_type": "markdown",
      "source": [
        "# Lists Methods\n",
        "\n",
        "\n",
        "* The commonly used lsit methods are :       \n",
        "                                      \n",
        "\n",
        "1. **append**(x) → add item at end\n",
        "\n",
        "2. **insert**(i, x) → insert item at position i\n",
        "\n",
        "3. **extend**(iterable) → add multiple items from another list\n",
        "\n",
        "4. **remove**(x) → remove first occurrence of x\n",
        "\n",
        "5. **pop**(i) → remove item at index i (default: last)\n",
        "\n",
        "6. **clear**() → remove all items\n",
        "\n",
        "7. **sort**() → sort list ascending (in-place)\n",
        "\n",
        "8. **reverse**() → reverse the order of list\n",
        "\n",
        "9. **copy**() → make a shallow copy"
      ],
      "metadata": {
        "id": "bruMcYen5-0v"
      }
    },
    {
      "cell_type": "code",
      "source": [
        "from typing import List"
      ],
      "metadata": {
        "id": "ISiF5cVX6ign"
      },
      "execution_count": null,
      "outputs": []
    },
    {
      "cell_type": "markdown",
      "source": [
        "# Mini Projects\n",
        "\n",
        "\n",
        "### Grocery List Manager"
      ],
      "metadata": {
        "id": "h6jsB7uTgmKm"
      }
    },
    {
      "cell_type": "code",
      "source": [
        "def shopping():\n",
        "\n",
        "\n",
        "\n",
        "  print(\"Welcome to the Grocery Store\")\n",
        "  # Index                   0         1         2          3          4\n",
        "  products : list[str] = ['Cake', 'Cherry', 'Apple', 'Pomegrante', 'Bread']\n",
        "\n",
        "  # Index                 0     1     2     3     4\n",
        "  prices : list[int]  = [100 , 200 , 500 , 600 , 900 ,]\n",
        "\n",
        "  # Choices of Options\n",
        "\n",
        "  # Index                  0      1         2       3      4\n",
        "  options : list[str] = [\"Add\",\"Remove\",\"Insert\",\"View\",\"Exit\"]\n",
        "\n",
        "  # Empty List\n",
        "  cart = []\n",
        "\n",
        "  # Iterating Loop over prices and procducts\n",
        "\n",
        "  for items in range(len(products)):\n",
        "    print(f'{items + 1}- {products[items]} :  {prices[items]}')\n",
        "\n",
        "\n",
        "  # Showing menu and asking for choice\n",
        "\n",
        "\n",
        "\n",
        "\n",
        "  # Input for the product choice\n",
        "  # product_choice : str = int(input(\"Enter product number to add :\"))\n",
        "  while True :\n",
        "\n",
        "   print('What do you want to Choose  :')\n",
        "\n",
        "   for menu in range(len(options)):\n",
        "    print(f'{menu + 1 }- {options[menu]} ')\n",
        "\n",
        "  # Input for the menu choice\n",
        "  menu_choice : str = int(input(\"Enter your Choice: \"))\n",
        "\n",
        "  if(menu_choice == 1):\n",
        "       product_choice = int(input(\"Enter product number to add :\"))\n",
        "       if ( 1 <= product_choice <= len(products)):  # 1 <= 1 <= 5\n",
        "        selected_product = products[product_choice - 1]  # 1 <= 7 <= 5\n",
        "        cart.append(selected_product)\n",
        "        print(f'{selected_product} added to your cart')\n",
        "       else :\n",
        "        print('Product Item not Found !')\n",
        "  elif(menu_choice == 2):\n",
        "        if cart  == 0 :\n",
        "          print(f'{cart} is empty')\n",
        "        else :\n",
        "          print(f'Non-empty')\n",
        "  elif(menu_choice == 5):\n",
        "    print(f'Thanks for Visiting Mahi Mart')\n",
        "    break\n",
        "\n",
        "\n",
        "\n",
        "# Solve projects tomorrow\n",
        "shopping()"
      ],
      "metadata": {
        "colab": {
          "base_uri": "https://localhost:8080/",
          "height": 106
        },
        "id": "My_KVy9Wgt5h",
        "outputId": "243cf5fc-d12d-432c-acef-347715e45f84"
      },
      "execution_count": null,
      "outputs": [
        {
          "output_type": "error",
          "ename": "SyntaxError",
          "evalue": "'break' outside loop (ipython-input-425923770.py, line 58)",
          "traceback": [
            "\u001b[0;36m  File \u001b[0;32m\"/tmp/ipython-input-425923770.py\"\u001b[0;36m, line \u001b[0;32m58\u001b[0m\n\u001b[0;31m    break\u001b[0m\n\u001b[0m    ^\u001b[0m\n\u001b[0;31mSyntaxError\u001b[0m\u001b[0;31m:\u001b[0m 'break' outside loop\n"
          ]
        }
      ]
    },
    {
      "cell_type": "code",
      "source": [
        "\n",
        "  # choice : str = input(\"Which item number you want to add :  \")\n",
        "\n",
        "  # if choice in products:\n",
        "  #   cart.append(choice)\n",
        "  #   print(f'{choice} added to your cart')\n",
        "  # else :\n",
        "  #   print(f'{choice} Item not Found !')\n",
        "\n",
        "  # print(f'Your cart now has {products[items]} : {prices[items]}')\n",
        "\n",
        "def shopping():\n",
        "    print(\"Welcome to the Grocery Store\")\n",
        "\n",
        "    # Index                   0         1         2          3          4\n",
        "    products : list[str] = ['Cake', 'Cherry', 'Apple', 'Pomegrante', 'Bread']\n",
        "\n",
        "    # Index                 0     1     2     3     4\n",
        "    prices : list[int]  = [100 , 200 , 500 , 600 , 900]\n",
        "\n",
        "    # Choices of Options\n",
        "    options : list[str] = [\"Add\",\"Remove\",\"Insert\",\"View\",\"Exit\"]\n",
        "\n",
        "    # Empty List\n",
        "    cart = []\n",
        "\n",
        "    # Iterating Loop over prices and products\n",
        "    for items in range(len(products)):\n",
        "        print(f'{items + 1}- {products[items]} :  {prices[items]}')\n",
        "\n",
        "    # Main loop\n",
        "    while True:\n",
        "        print(\"\\nWhat do you want to Choose  :\")\n",
        "        for menu in range(len(options)):\n",
        "            print(f'{menu + 1 }- {options[menu]} ')\n",
        "\n",
        "        # Input for the menu choice\n",
        "        menu_choice : int = int(input(\"Enter your Choice: \"))\n",
        "\n",
        "        if(menu_choice == 1):\n",
        "            product_choice = int(input(\"Enter product number to add : \"))\n",
        "            if 1 <= product_choice <= len(products):\n",
        "                selected_product = products[product_choice - 1]\n",
        "                cart.append(selected_product)\n",
        "                print(f'{selected_product} added to your cart')\n",
        "            else:\n",
        "                print('Product Item not Found !')\n",
        "\n",
        "        elif(menu_choice == 2):\n",
        "            if len(cart) == 0:\n",
        "                print(\"Cart is empty, nothing to remove!\")\n",
        "            else:\n",
        "                print(f'Cart has: {cart}')  # Later we’ll remove items here\n",
        "\n",
        "        elif(menu_choice == 5):\n",
        "            print(\"Thank you for shopping with us!\")\n",
        "            break\n",
        "\n",
        "\n",
        "shopping()\n"
      ],
      "metadata": {
        "id": "sVdg87ghuGNG",
        "colab": {
          "base_uri": "https://localhost:8080/"
        },
        "outputId": "bf3d0817-7ba7-47ed-bdf6-1c183825ba32"
      },
      "execution_count": null,
      "outputs": [
        {
          "output_type": "stream",
          "name": "stdout",
          "text": [
            "Welcome to the Grocery Store\n",
            "1- Cake :  100\n",
            "2- Cherry :  200\n",
            "3- Apple :  500\n",
            "4- Pomegrante :  600\n",
            "5- Bread :  900\n",
            "\n",
            "What do you want to Choose  :\n",
            "1- Add \n",
            "2- Remove \n",
            "3- Insert \n",
            "4- View \n",
            "5- Exit \n",
            "Enter your Choice: 2\n",
            "Cart is empty, nothing to remove!\n",
            "\n",
            "What do you want to Choose  :\n",
            "1- Add \n",
            "2- Remove \n",
            "3- Insert \n",
            "4- View \n",
            "5- Exit \n",
            "Enter your Choice: 1\n",
            "Enter product number to add : 1\n",
            "Cake added to your cart\n",
            "\n",
            "What do you want to Choose  :\n",
            "1- Add \n",
            "2- Remove \n",
            "3- Insert \n",
            "4- View \n",
            "5- Exit \n",
            "Enter your Choice: 2\n",
            "Cart has: ['Cake']\n",
            "\n",
            "What do you want to Choose  :\n",
            "1- Add \n",
            "2- Remove \n",
            "3- Insert \n",
            "4- View \n",
            "5- Exit \n",
            "Enter your Choice: 5\n",
            "Thank you for shopping with us!\n"
          ]
        }
      ]
    }
  ]
}