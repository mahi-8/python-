{
  "nbformat": 4,
  "nbformat_minor": 0,
  "metadata": {
    "colab": {
      "provenance": []
    },
    "kernelspec": {
      "name": "python3",
      "display_name": "Python 3"
    },
    "language_info": {
      "name": "python"
    }
  },
  "cells": [
    {
      "cell_type": "markdown",
      "source": [
        "# **Learning Dictionary**\n",
        "\n",
        "* A dictionary in Python is a collection of data stored in **key–value pairs**.\n",
        "* Dictionary items are **ordered**, changeable, and do not allow duplicates.\n",
        "* Dictionary items are presented in **key:value** pairs, and can be referred to by using the key name.\n",
        "* Written inside curly braces {}.\n",
        "\n",
        "### Example\n",
        "\n",
        "```\n",
        "student = {\n",
        "    \"name\": \"Ali\",\n",
        "    \"age\": 16,\n",
        "    \"grade\": \"10th\"\n",
        "}\n",
        "\n",
        "```\n",
        "\n",
        "---\n",
        "## Difference between List and Dictionary in Python\n",
        "\n",
        "* List → Stores items in an ordered sequence.\n",
        "* Dictionary → Stores data in key–value pairs.\n",
        "\n",
        "* Example :\n",
        "\n",
        "```\n",
        "# List\n",
        "fruits = [\"apple\", \"banana\", \"cherry\"]\n",
        "\n",
        "# Dictionary\n",
        "fruit_colors = {\"apple\": \"red\", \"banana\": \"yellow\", \"cherry\": \"red\"}\n",
        "```\n",
        "#### Acessing Data :               \n",
        "\n",
        "* List → Access using *index number* (starts from 0).\n",
        "\n",
        "* Dictionary → Access using *keys* (custom labels).\n",
        "\n",
        "#### Uniqueness :\n",
        "* **List** → Can have duplicate items.\n",
        "* **Dictionary** → Keys must be unique, but values can repeat."
      ],
      "metadata": {
        "id": "Bpjp--MZznmA"
      }
    },
    {
      "cell_type": "code",
      "source": [
        "\n",
        "# ## Learning Dictionary by Examples\n",
        "\n",
        "\n",
        "users  : dict = {\n",
        "    \"name\" : \"Maheera\",\n",
        "    \"age\"  : 25 ,\n",
        "    \"city\" : \"Lahore\"\n",
        "}\n",
        "\n",
        "user1: dict = {\n",
        "     \"name\" : \"Mahi\",\n",
        "     \"age\"  : 25 ,\n",
        "     \"city\" : \"karachi\"\n",
        "}\n",
        "\n",
        "user2 : dict = {\n",
        "     \"name\" : \"Mahnoor\",\n",
        "    \"age\"  : 25 ,\n",
        "    \"city\" : \"Islamabad\"\n",
        "}\n",
        "\n",
        "print(f'users : {users[\"name\"]}')\n",
        "print(f'{users}')\n",
        "\n",
        "\n",
        "# To print multiple data and store it\n",
        "\n",
        "students : list = [\n",
        "    {\n",
        "        \"name1\" : \"Student1\",\n",
        "        \"class01\" : 12,\n",
        "        \"marks01\" : 505,\n",
        "        \"roll_number01\" : 511\n",
        "    },\n",
        "    {\n",
        "        \"name2\" : \"Student2\",\n",
        "        \"class02\" : 12,\n",
        "        \"marks02\" : 500,\n",
        "        \"roll_number02\" : 512\n",
        "    },\n",
        "    {\n",
        "        \"name3\" : \"Student3\",\n",
        "        \"class03\" : 12,\n",
        "        \"marks03\" : 499,\n",
        "        \"roll_number03\" : 513\n",
        "    },\n",
        "    {\n",
        "        \"name04\" : \"Student4\",\n",
        "        \"class04\" : 12,\n",
        "        \"marks04\" : 450,\n",
        "        \"roll_number05\" : 514\n",
        "    }\n",
        "]\n",
        "\n",
        "# ## Accessing it from multiple dictionary using list\n",
        "\n",
        "# print(f'Students Name : {students[\"name1\"]} , {students[\"name2\"]} , {students[\"name3\"]} , {students[\"name4\"]} ')\n",
        "print(f'Student Name : {students[0]['name1']}')\n",
        "\n",
        "## Tells about the length of the dictionary\n",
        "print(len(students)) # 4\n",
        "\n",
        "print(type(students)) # <class 'list'>\n",
        "\n",
        "print(type(users))\n",
        "\n",
        "\n"
      ],
      "metadata": {
        "colab": {
          "base_uri": "https://localhost:8080/"
        },
        "id": "AuGLys8HztqU",
        "outputId": "c8f2e0e6-e1bd-4934-bb4e-fbc5636529a3"
      },
      "execution_count": null,
      "outputs": [
        {
          "output_type": "stream",
          "name": "stdout",
          "text": [
            "users : Maheera\n",
            "{'name': 'Maheera', 'age': 25, 'city': 'Lahore'}\n",
            "Student Name : Student1\n",
            "4\n",
            "<class 'list'>\n",
            "<class 'dict'>\n"
          ]
        }
      ]
    },
    {
      "cell_type": "markdown",
      "source": [
        "## Accessing Dictionary Items :"
      ],
      "metadata": {
        "id": "3sAlVq_pBh4o"
      }
    },
    {
      "cell_type": "code",
      "source": [
        "# getting the value of the key\n",
        "\n",
        "car : dict = {\n",
        "    \"brand\" : \"Suzuki\",\n",
        "    \"model\" : 2006,\n",
        "    \"name\"  : \"city\"\n",
        "}\n",
        "\n",
        "x = car[\"name\"]\n",
        "print(f'Car Name : {x}')\n",
        "\n",
        "# using get() function :\n",
        "\n",
        "x = car.get(\"model\")\n",
        "print(f'Car Model : {x}')\n",
        "\n",
        "## USING KEY METHOD :\n",
        "# The list of the keys is a view of the dictionary, meaning that any changes done to the dictionary will be reflected in the keys list.\n",
        "\n",
        "car[\"color\"] = \"black\"\n",
        "x = car.keys()\n",
        "\n",
        "print(f\"Keys of the car: {x}\")\n",
        "\n",
        "# USING VALUE METHOD :\n",
        "# The values() method will return a list of all the values in the dictionary.\n",
        "\n",
        "x = car.values()\n",
        "print(f'Values of the Car : {x}')\n",
        "\n",
        "# Remove Items :\n",
        "# delete , clear and pop used for removing items :\n",
        "\n",
        "# using pop\n",
        "\n",
        "car.pop(\"model\")\n",
        "print(car)\n",
        "\n",
        "# using popitem()\n",
        "# The popitem() method removes the last inserted item\n",
        "\n",
        "car.popitem()\n",
        "print(car)\n",
        "\n",
        "# using delete\n",
        "# The del keyword removes the item with the specified key name:\n",
        "\n",
        "# This is wrong bcz del is a keyword\n",
        "\n",
        "# car.del(\"colour\")\n",
        "# print(car)\n",
        "\n",
        "del car[\"brand\"]\n",
        "print(car)\n",
        "\n",
        "# Using clear method :\n",
        "# The clear() method empties the dictionary:\n",
        "\n",
        "car.clear()\n",
        "print(car)"
      ],
      "metadata": {
        "colab": {
          "base_uri": "https://localhost:8080/"
        },
        "id": "ZgJ04svaz7DN",
        "outputId": "b10a9403-ed4e-4e28-956c-c1644bf5ae1f"
      },
      "execution_count": null,
      "outputs": [
        {
          "output_type": "stream",
          "name": "stdout",
          "text": [
            "Car Name : city\n",
            "Car Model : 2006\n",
            "Keys of the car: dict_keys(['brand', 'model', 'name', 'color'])\n",
            "Values of the Car : dict_values(['Suzuki', 2006, 'city', 'black'])\n",
            "{'brand': 'Suzuki', 'name': 'city', 'color': 'black'}\n",
            "{'brand': 'Suzuki', 'name': 'city'}\n",
            "{'name': 'city'}\n",
            "{}\n"
          ]
        }
      ]
    },
    {
      "cell_type": "markdown",
      "source": [
        "## Loop thorough a dictionary\n"
      ],
      "metadata": {
        "id": "BCdVnkuPE2On"
      }
    },
    {
      "cell_type": "code",
      "source": [
        "student = {\n",
        "    \"name\": \"Maheera\",\n",
        "    \"age\": 16,\n",
        "    \"class\": \"10th\"\n",
        "}\n",
        "\n",
        "# Loop through keys\n",
        "for key in student:\n",
        "    print(\"Key:\", key)\n"
      ],
      "metadata": {
        "id": "Fu-uebf9FEej",
        "colab": {
          "base_uri": "https://localhost:8080/"
        },
        "outputId": "4d0002b7-d148-49c9-f0d5-a64e3675f9b7"
      },
      "execution_count": 1,
      "outputs": [
        {
          "output_type": "stream",
          "name": "stdout",
          "text": [
            "Key: name\n",
            "Key: age\n",
            "Key: class\n"
          ]
        }
      ]
    },
    {
      "cell_type": "code",
      "source": [
        "# Loop through values\n",
        "for value in student.values():\n",
        "    print(f'Value:  {value}')\n"
      ],
      "metadata": {
        "colab": {
          "base_uri": "https://localhost:8080/"
        },
        "id": "MHTFQUvItcJZ",
        "outputId": "1d4cb5eb-9d15-4d7e-cabd-319a6828c684"
      },
      "execution_count": 2,
      "outputs": [
        {
          "output_type": "stream",
          "name": "stdout",
          "text": [
            "Value: Maheera\n",
            "Value: 16\n",
            "Value: 10th\n"
          ]
        }
      ]
    },
    {
      "cell_type": "code",
      "source": [
        "# It prints both key and value\n",
        "for key, value in student.items():\n",
        "    print(f'{key} : {value}')\n"
      ],
      "metadata": {
        "colab": {
          "base_uri": "https://localhost:8080/"
        },
        "id": "SnglTiBitpqL",
        "outputId": "847aea4c-e9eb-4701-dbaa-18505a4d340a"
      },
      "execution_count": 3,
      "outputs": [
        {
          "output_type": "stream",
          "name": "stdout",
          "text": [
            "name : Maheera\n",
            "age : 16\n",
            "class : 10th\n"
          ]
        }
      ]
    },
    {
      "cell_type": "markdown",
      "source": [
        "# Mini Example (Students Record)"
      ],
      "metadata": {
        "id": "v6BF0zJUuVEr"
      }
    },
    {
      "cell_type": "code",
      "source": [
        "students = {\n",
        "    \"Student1\": 500,\n",
        "    \"Student2\": 480,\n",
        "    \"Student3\": 450\n",
        "}\n",
        "\n",
        "print(\"📚 Students Marks Record:\\n\")\n",
        "\n",
        "for name, marks in students.items():\n",
        "    print(f\"{name} scored {marks} marks.\")\n"
      ],
      "metadata": {
        "colab": {
          "base_uri": "https://localhost:8080/"
        },
        "id": "QH92O2vPu1e1",
        "outputId": "de45ef46-bf99-4790-d736-48e6d02e2cde"
      },
      "execution_count": 4,
      "outputs": [
        {
          "output_type": "stream",
          "name": "stdout",
          "text": [
            "📚 Students Marks Record:\n",
            "\n",
            "Student1 scored 500 marks.\n",
            "Student2 scored 480 marks.\n",
            "Student3 scored 450 marks.\n"
          ]
        }
      ]
    }
  ]
}