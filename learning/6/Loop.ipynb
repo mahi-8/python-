{
  "cells": [
    {
      "cell_type": "markdown",
      "metadata": {
        "id": "tc1KvKmB9yhq"
      },
      "source": [
        "# **Loop**\n"
      ]
    },
    {
      "cell_type": "code",
      "execution_count": null,
      "metadata": {
        "colab": {
          "base_uri": "https://localhost:8080/"
        },
        "id": "dYJVc1jL94Iw",
        "outputId": "6ef25bed-53d7-46e7-97f0-53ba9cfd0fff"
      },
      "outputs": [
        {
          "name": "stdout",
          "output_type": "stream",
          "text": [
            "Numbers : 1\n",
            "Numbers : 2\n",
            "Numbers : 3\n",
            "Numbers : 4\n",
            "Numbers : 5\n"
          ]
        }
      ],
      "source": [
        "# for loop\n",
        "\n",
        "for i in range(1,6):\n",
        "  print(\"Numbers :\",i)"
      ]
    },
    {
      "cell_type": "code",
      "execution_count": null,
      "metadata": {
        "colab": {
          "base_uri": "https://localhost:8080/"
        },
        "id": "Z0_5yQP6-BeX",
        "outputId": "88897c1e-91fb-44db-ad94-26a760ecd529"
      },
      "outputs": [
        {
          "ename": "",
          "evalue": "",
          "output_type": "error",
          "traceback": [
            "\u001b[1;31mFailed to start the Kernel. \n",
            "\u001b[1;31mUnable to start Kernel 'Python 3.12.2' due to a timeout waiting for the ports to get used. \n",
            "\u001b[1;31mView Jupyter <a href='command:jupyter.viewOutput'>log</a> for further details."
          ]
        }
      ],
      "source": [
        "# for loop using lists\n",
        "\n",
        "students : list[str] = [\"Mahi\",\"Mano\",\"Mahi\",\"Zoha\",\"Zoya\"]\n",
        "\n",
        "for student in students:\n",
        "  print(f'Student Name : {student}')"
      ]
    },
    {
      "cell_type": "markdown",
      "metadata": {
        "id": "tNNc1c3K-YLa"
      },
      "source": [
        "### Guessing Number Game"
      ]
    },
    {
      "cell_type": "code",
      "execution_count": null,
      "metadata": {
        "colab": {
          "base_uri": "https://localhost:8080/"
        },
        "id": "JA1odnT1-cIw",
        "outputId": "b03252d3-bfb7-4bb9-a44f-a560477bdcaf"
      },
      "outputs": [
        {
          "name": "stdout",
          "output_type": "stream",
          "text": [
            "Enter a number :1\n",
            "Wrong , Try again please \n",
            "Enter a number :12\n",
            "Wrong , Try again please \n",
            "Enter a number :9\n",
            "You guessed it right\n"
          ]
        }
      ],
      "source": [
        "# Simple guessing game\n",
        "\n",
        "correct_number = 9\n",
        "guess = 0\n",
        "\n",
        "while guess != correct_number:\n",
        "  guess = int(input(\"Enter a number: \"))\n",
        "  print(\"Wrong , Try again please \" if guess != correct_number else \"You guessed it right\")\n",
        "\n",
        "\n",
        "# Do it again\n"
      ]
    },
    {
      "cell_type": "code",
      "execution_count": null,
      "metadata": {
        "colab": {
          "base_uri": "https://localhost:8080/"
        },
        "id": "hj96KiMv_GkM",
        "outputId": "ee5d6bd9-8900-4b32-c21c-9bf4a627e8cf"
      },
      "outputs": [
        {
          "name": "stdout",
          "output_type": "stream",
          "text": [
            "10.... \n",
            "9.... \n",
            "8.... \n",
            "7.... \n",
            "6.... \n",
            "5.... \n",
            "4.... \n",
            "3.... \n",
            "2.... \n",
            "1.... \n",
            "Happy New Year!!!\n"
          ]
        }
      ],
      "source": [
        "# Countdown Timer\n",
        "\n",
        "# for numbers in range(11,1):\n",
        "#   print(numbers)\n",
        "\n",
        "countdown_timer = 10\n",
        "\n",
        "\n",
        "# This condition doesn't run because it receavies a false condition\n",
        "\n",
        "# while False :\n",
        "#   print(f'Count down Timer.....')\n",
        "#   countdown_timer -=1\n",
        "\n",
        "\n",
        "# This is correct but we need to count the 10 to 1\n",
        "\n",
        "\n",
        "# while True :\n",
        "#   print(f'Count down Timer.....')\n",
        "#   countdown_timer -=1\n",
        "\n",
        "\n",
        "# keyword   condtion :\n",
        "  #  block of code\n",
        "  #  inc/dec\n",
        "\n",
        "while countdown_timer >= 1 :\n",
        "  print(f'{countdown_timer}.... ')\n",
        "  countdown_timer -= 1\n",
        "\n",
        "print(\"Happy New Year!!!\")\n"
      ]
    },
    {
      "cell_type": "code",
      "execution_count": null,
      "metadata": {
        "colab": {
          "base_uri": "https://localhost:8080/"
        },
        "id": "iFEPNeo9C7io",
        "outputId": "9304c8e3-ce3d-4266-d306-a79fee1afd33"
      },
      "outputs": [
        {
          "name": "stdout",
          "output_type": "stream",
          "text": [
            "Numbers : 9\n",
            "Square of numbers : 81\n",
            "Numbers : 0\n",
            "Square of numbers : 0\n",
            "Numbers : 10\n",
            "Square of numbers : 100\n",
            "Numbers : 24\n",
            "Square of numbers : 576\n",
            "Numbers : 3\n",
            "Square of numbers : 9\n"
          ]
        }
      ],
      "source": [
        "# To print the square of the list of the numbers\n",
        "\n",
        "# numbers : list[int] = [1,2,3,4,5]\n",
        "numbers : list[int] = [9,0,10,24,3]\n",
        "\n",
        "for num in numbers:\n",
        "  print(f'Numbers : {num}')\n",
        "  print(f'Square of numbers : {num*num}')"
      ]
    },
    {
      "cell_type": "code",
      "execution_count": null,
      "metadata": {
        "id": "FA-QGm7FHFmB"
      },
      "outputs": [],
      "source": []
    }
  ],
  "metadata": {
    "colab": {
      "provenance": []
    },
    "kernelspec": {
      "display_name": "Python 3",
      "name": "python3"
    },
    "language_info": {
      "name": "python",
      "version": "3.12.2"
    }
  },
  "nbformat": 4,
  "nbformat_minor": 0
}
